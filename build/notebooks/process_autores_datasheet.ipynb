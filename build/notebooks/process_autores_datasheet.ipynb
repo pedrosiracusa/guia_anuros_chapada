{
 "cells": [
  {
   "cell_type": "code",
   "execution_count": 148,
   "metadata": {},
   "outputs": [],
   "source": [
    "import pandas as pd\n",
    "import numpy as np\n",
    "import re\n",
    "import json"
   ]
  },
  {
   "cell_type": "markdown",
   "metadata": {},
   "source": [
    "# Carga"
   ]
  },
  {
   "cell_type": "code",
   "execution_count": 149,
   "metadata": {},
   "outputs": [
    {
     "data": {
      "text/html": [
       "<div>\n",
       "<style scoped>\n",
       "    .dataframe tbody tr th:only-of-type {\n",
       "        vertical-align: middle;\n",
       "    }\n",
       "\n",
       "    .dataframe tbody tr th {\n",
       "        vertical-align: top;\n",
       "    }\n",
       "\n",
       "    .dataframe thead th {\n",
       "        text-align: right;\n",
       "    }\n",
       "</style>\n",
       "<table border=\"1\" class=\"dataframe\">\n",
       "  <thead>\n",
       "    <tr style=\"text-align: right;\">\n",
       "      <th></th>\n",
       "      <th>Nome</th>\n",
       "      <th>Tipo</th>\n",
       "      <th>Papel</th>\n",
       "      <th>Descrição</th>\n",
       "      <th>Links</th>\n",
       "      <th>avatar-id</th>\n",
       "    </tr>\n",
       "  </thead>\n",
       "  <tbody>\n",
       "    <tr>\n",
       "      <th>0</th>\n",
       "      <td>Ana Cecília Holler</td>\n",
       "      <td>Autor</td>\n",
       "      <td>Produtora de conteúdo e Diagramadora</td>\n",
       "      <td>Bióloga e mestranda do LAFUC - PPGZOO/UnB com ...</td>\n",
       "      <td>NaN</td>\n",
       "      <td>acholler</td>\n",
       "    </tr>\n",
       "    <tr>\n",
       "      <th>1</th>\n",
       "      <td>Beatriz Vasconcelos</td>\n",
       "      <td>Autor</td>\n",
       "      <td>Produtora de conteúdo e Ilustradora</td>\n",
       "      <td>Bióloga herpetóloga com um pezinho na ornitolo...</td>\n",
       "      <td>NaN</td>\n",
       "      <td>bvasconcelos</td>\n",
       "    </tr>\n",
       "    <tr>\n",
       "      <th>2</th>\n",
       "      <td>José Marcos Abreu</td>\n",
       "      <td>Autor</td>\n",
       "      <td>Produtor de conteúdo</td>\n",
       "      <td>Em formação em Ciência Biológicas. Pesquisa hi...</td>\n",
       "      <td>Site: https://teste.com</td>\n",
       "      <td>jmabreu</td>\n",
       "    </tr>\n",
       "    <tr>\n",
       "      <th>3</th>\n",
       "      <td>Pedro de Siracusa</td>\n",
       "      <td>Autor</td>\n",
       "      <td>Fotógrafo e Programador</td>\n",
       "      <td>Biólogo e mestre em modelagem computacional. A...</td>\n",
       "      <td>Site: https://pedrosiracusa.github.io; Linkedi...</td>\n",
       "      <td>pcsiracusa</td>\n",
       "    </tr>\n",
       "    <tr>\n",
       "      <th>4</th>\n",
       "      <td>Anderson De Lima</td>\n",
       "      <td>Autor</td>\n",
       "      <td>Produtor de conteúdo</td>\n",
       "      <td>Biólogo desde criancinha! Formado pela UnB, me...</td>\n",
       "      <td>NaN</td>\n",
       "      <td>alima</td>\n",
       "    </tr>\n",
       "  </tbody>\n",
       "</table>\n",
       "</div>"
      ],
      "text/plain": [
       "                  Nome   Tipo                                 Papel  \\\n",
       "0   Ana Cecília Holler  Autor  Produtora de conteúdo e Diagramadora   \n",
       "1  Beatriz Vasconcelos  Autor   Produtora de conteúdo e Ilustradora   \n",
       "2    José Marcos Abreu  Autor                  Produtor de conteúdo   \n",
       "3   Pedro de Siracusa   Autor               Fotógrafo e Programador   \n",
       "4     Anderson De Lima  Autor                  Produtor de conteúdo   \n",
       "\n",
       "                                           Descrição  \\\n",
       "0  Bióloga e mestranda do LAFUC - PPGZOO/UnB com ...   \n",
       "1  Bióloga herpetóloga com um pezinho na ornitolo...   \n",
       "2  Em formação em Ciência Biológicas. Pesquisa hi...   \n",
       "3  Biólogo e mestre em modelagem computacional. A...   \n",
       "4  Biólogo desde criancinha! Formado pela UnB, me...   \n",
       "\n",
       "                                               Links     avatar-id  \n",
       "0                                                NaN      acholler  \n",
       "1                                                NaN  bvasconcelos  \n",
       "2                            Site: https://teste.com       jmabreu  \n",
       "3  Site: https://pedrosiracusa.github.io; Linkedi...    pcsiracusa  \n",
       "4                                                NaN         alima  "
      ]
     },
     "execution_count": 149,
     "metadata": {},
     "output_type": "execute_result"
    }
   ],
   "source": [
    "dataFile = './autoresdata.csv'\n",
    "df = pd.read_csv(dataFile)\n",
    "df.head()"
   ]
  },
  {
   "cell_type": "markdown",
   "metadata": {},
   "source": [
    "# Transformações"
   ]
  },
  {
   "cell_type": "code",
   "execution_count": 150,
   "metadata": {},
   "outputs": [
    {
     "name": "stdout",
     "output_type": "stream",
     "text": [
      "nan\n",
      "nan\n",
      "Site: https://teste.com\n",
      "Site: https://pedrosiracusa.github.io; Linkedin: https://www.linkedin.com/in/pedrosiracusa/\n",
      "nan\n",
      "nan\n"
     ]
    }
   ],
   "source": [
    "def strToJson(str):\n",
    "    print(str)\n",
    "    if pd.notnull(str):\n",
    "\n",
    "        return { k:v  for link in str.split(\";\") for k,v in re.findall(\"(.*):\\s*(http.*)\",link) }\n",
    "    else:\n",
    "        return {}\n",
    "df['Links'] = df['Links'].apply(strToJson)"
   ]
  },
  {
   "cell_type": "code",
   "execution_count": 151,
   "metadata": {},
   "outputs": [
    {
     "data": {
      "text/html": [
       "<div>\n",
       "<style scoped>\n",
       "    .dataframe tbody tr th:only-of-type {\n",
       "        vertical-align: middle;\n",
       "    }\n",
       "\n",
       "    .dataframe tbody tr th {\n",
       "        vertical-align: top;\n",
       "    }\n",
       "\n",
       "    .dataframe thead th {\n",
       "        text-align: right;\n",
       "    }\n",
       "</style>\n",
       "<table border=\"1\" class=\"dataframe\">\n",
       "  <thead>\n",
       "    <tr style=\"text-align: right;\">\n",
       "      <th></th>\n",
       "      <th>Nome</th>\n",
       "      <th>Tipo</th>\n",
       "      <th>Papel</th>\n",
       "      <th>Descrição</th>\n",
       "      <th>Links</th>\n",
       "      <th>avatar-id</th>\n",
       "    </tr>\n",
       "  </thead>\n",
       "  <tbody>\n",
       "    <tr>\n",
       "      <th>0</th>\n",
       "      <td>Ana Cecília Holler</td>\n",
       "      <td>Autor</td>\n",
       "      <td>Produtora de conteúdo e Diagramadora</td>\n",
       "      <td>Bióloga e mestranda do LAFUC - PPGZOO/UnB com ...</td>\n",
       "      <td>{}</td>\n",
       "      <td>acholler</td>\n",
       "    </tr>\n",
       "    <tr>\n",
       "      <th>1</th>\n",
       "      <td>Beatriz Vasconcelos</td>\n",
       "      <td>Autor</td>\n",
       "      <td>Produtora de conteúdo e Ilustradora</td>\n",
       "      <td>Bióloga herpetóloga com um pezinho na ornitolo...</td>\n",
       "      <td>{}</td>\n",
       "      <td>bvasconcelos</td>\n",
       "    </tr>\n",
       "    <tr>\n",
       "      <th>2</th>\n",
       "      <td>José Marcos Abreu</td>\n",
       "      <td>Autor</td>\n",
       "      <td>Produtor de conteúdo</td>\n",
       "      <td>Em formação em Ciência Biológicas. Pesquisa hi...</td>\n",
       "      <td>{'Site': 'https://teste.com'}</td>\n",
       "      <td>jmabreu</td>\n",
       "    </tr>\n",
       "    <tr>\n",
       "      <th>3</th>\n",
       "      <td>Pedro de Siracusa</td>\n",
       "      <td>Autor</td>\n",
       "      <td>Fotógrafo e Programador</td>\n",
       "      <td>Biólogo e mestre em modelagem computacional. A...</td>\n",
       "      <td>{'Site': 'https://pedrosiracusa.github.io', ' ...</td>\n",
       "      <td>pcsiracusa</td>\n",
       "    </tr>\n",
       "    <tr>\n",
       "      <th>4</th>\n",
       "      <td>Anderson De Lima</td>\n",
       "      <td>Autor</td>\n",
       "      <td>Produtor de conteúdo</td>\n",
       "      <td>Biólogo desde criancinha! Formado pela UnB, me...</td>\n",
       "      <td>{}</td>\n",
       "      <td>alima</td>\n",
       "    </tr>\n",
       "    <tr>\n",
       "      <th>5</th>\n",
       "      <td>Yan Soares</td>\n",
       "      <td>Colaborador</td>\n",
       "      <td>Apoio em campo</td>\n",
       "      <td>Biólogo, mestre em Zoologia/UnB e aluno de dou...</td>\n",
       "      <td>{}</td>\n",
       "      <td>ysoares</td>\n",
       "    </tr>\n",
       "  </tbody>\n",
       "</table>\n",
       "</div>"
      ],
      "text/plain": [
       "                  Nome         Tipo                                 Papel  \\\n",
       "0   Ana Cecília Holler        Autor  Produtora de conteúdo e Diagramadora   \n",
       "1  Beatriz Vasconcelos        Autor   Produtora de conteúdo e Ilustradora   \n",
       "2    José Marcos Abreu        Autor                  Produtor de conteúdo   \n",
       "3   Pedro de Siracusa         Autor               Fotógrafo e Programador   \n",
       "4     Anderson De Lima        Autor                  Produtor de conteúdo   \n",
       "5           Yan Soares  Colaborador                        Apoio em campo   \n",
       "\n",
       "                                           Descrição  \\\n",
       "0  Bióloga e mestranda do LAFUC - PPGZOO/UnB com ...   \n",
       "1  Bióloga herpetóloga com um pezinho na ornitolo...   \n",
       "2  Em formação em Ciência Biológicas. Pesquisa hi...   \n",
       "3  Biólogo e mestre em modelagem computacional. A...   \n",
       "4  Biólogo desde criancinha! Formado pela UnB, me...   \n",
       "5  Biólogo, mestre em Zoologia/UnB e aluno de dou...   \n",
       "\n",
       "                                               Links     avatar-id  \n",
       "0                                                 {}      acholler  \n",
       "1                                                 {}  bvasconcelos  \n",
       "2                      {'Site': 'https://teste.com'}       jmabreu  \n",
       "3  {'Site': 'https://pedrosiracusa.github.io', ' ...    pcsiracusa  \n",
       "4                                                 {}         alima  \n",
       "5                                                 {}       ysoares  "
      ]
     },
     "execution_count": 151,
     "metadata": {},
     "output_type": "execute_result"
    }
   ],
   "source": [
    "df"
   ]
  },
  {
   "cell_type": "code",
   "execution_count": 152,
   "metadata": {},
   "outputs": [
    {
     "data": {
      "text/plain": [
       "[None, None]"
      ]
     },
     "execution_count": 152,
     "metadata": {},
     "output_type": "execute_result"
    }
   ],
   "source": [
    "\n",
    "[None, None]"
   ]
  },
  {
   "cell_type": "markdown",
   "metadata": {},
   "source": [
    "### Renomeação de campos"
   ]
  },
  {
   "cell_type": "code",
   "execution_count": 155,
   "metadata": {},
   "outputs": [],
   "source": [
    "df.rename( {'Nome':'nome',\n",
    "            'Tipo': 'tipo',\n",
    "            'Papel': 'papel',\n",
    "            'Descrição': 'descricao',\n",
    "            'Links': 'links',\n",
    "            'avatar-id':'avatar-img'}, axis=1, inplace=True)"
   ]
  },
  {
   "cell_type": "code",
   "execution_count": 164,
   "metadata": {},
   "outputs": [],
   "source": [
    "d = {'autores': df[df['tipo']=='Autor'].drop('tipo',axis=1).to_dict(orient='records'),\n",
    " 'colaboradores': df[df['tipo']=='Colaborador'].drop('tipo',axis=1).to_dict(orient='records')}"
   ]
  },
  {
   "cell_type": "markdown",
   "metadata": {},
   "source": [
    "# Exportação"
   ]
  },
  {
   "cell_type": "code",
   "execution_count": 165,
   "metadata": {},
   "outputs": [],
   "source": [
    "species_data_path = '../../_data/autores.json'\n",
    "\n",
    "with open(species_data_path, 'w') as f:\n",
    "    json.dump(d, f,indent=1, ensure_ascii=False)"
   ]
  }
 ],
 "metadata": {
  "kernelspec": {
   "display_name": "base",
   "language": "python",
   "name": "python3"
  },
  "language_info": {
   "codemirror_mode": {
    "name": "ipython",
    "version": 3
   },
   "file_extension": ".py",
   "mimetype": "text/x-python",
   "name": "python",
   "nbconvert_exporter": "python",
   "pygments_lexer": "ipython3",
   "version": "3.11.7"
  }
 },
 "nbformat": 4,
 "nbformat_minor": 2
}
