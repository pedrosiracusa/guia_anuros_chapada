{
 "cells": [
  {
   "cell_type": "code",
   "execution_count": 60,
   "metadata": {},
   "outputs": [],
   "source": [
    "import re, os, shutil\n",
    "from pathlib import Path\n",
    "\n",
    "from pydrive.auth import GoogleAuth\n",
    "from pydrive.drive import GoogleDrive\n",
    "from pydrive.auth import ServiceAccountCredentials"
   ]
  },
  {
   "cell_type": "code",
   "execution_count": 61,
   "metadata": {},
   "outputs": [],
   "source": [
    "TEMP_DIR = \"tmp/textos-perfil\""
   ]
  },
  {
   "cell_type": "code",
   "execution_count": null,
   "metadata": {},
   "outputs": [
    {
     "data": {
      "text/plain": [
       "'1xl7oOBJ9JF6CIeEO92IvQc0mBwUGZS4L'"
      ]
     },
     "execution_count": 76,
     "metadata": {},
     "output_type": "execute_result"
    }
   ],
   "source": [
    "SCOPES = ['https://www.googleapis.com/auth/drive']\n",
    "SERVICE_ACCOUNT_KEY_FILE = f'{Path.home()}/workspace/.sacreds/guia-anuros_service_account_key.json'\n",
    "\n",
    "gauth = GoogleAuth()\n",
    "gauth.credentials = ServiceAccountCredentials.from_json_keyfile_name(SERVICE_ACCOUNT_KEY_FILE,SCOPES)\n",
    "drive = GoogleDrive(gauth)\n",
    "\n",
    "PROJECT_ID = '0B0M5IL0AEOXidHZmTjZzMHlLLWc'\n",
    "ROOT_ID = drive.ListFile({'q': f\"title contains 'dados_guia_digital' and '{PROJECT_ID}' in parents\"}).GetList()[0]['id']\n",
    "DIRECTORY_ESPECIES_ID = drive.ListFile({'q': f\"title contains 'especies_perfil_textos' and '{ROOT_ID}' in parents\"}).GetList()[0]['id']\n",
    "DIRECTORY_FAMILIAS_ID = drive.ListFile({'q': f\"title contains 'familias_perfil_textos' and '{ROOT_ID}' in parents\"}).GetList()[0]['id']"
   ]
  },
  {
   "cell_type": "code",
   "execution_count": 77,
   "metadata": {},
   "outputs": [
    {
     "data": {
      "text/plain": [
       "{'hylidae': '1N3vOtNclYgitSqmGpUtdzmrl2zQVTp3E68y3WJqLwss'}"
      ]
     },
     "execution_count": 77,
     "metadata": {},
     "output_type": "execute_result"
    }
   ],
   "source": [
    "{  f['title']:f['id'] \n",
    "              for f in drive.ListFile({'q': f\"'{DIRECTORY_FAMILIAS_ID}' in parents\"}).GetList()\n",
    "              if re.match('^[a-zA-Z]*ae$',f['title'])  }"
   ]
  },
  {
   "cell_type": "code",
   "execution_count": 102,
   "metadata": {},
   "outputs": [
    {
     "name": "stdout",
     "output_type": "stream",
     "text": [
      "Baixando documento da família bufonidae\n",
      "Baixando documento da família hylidae\n",
      "Baixando documento da espécie dendropsophus-rubicundulus\n",
      "Baixando documento da espécie scinax-similis\n",
      "Baixando documento da espécie scinax-rupestris\n",
      "Baixando documento da espécie scinax-rogerioi\n",
      "Baixando documento da espécie scinax-fuscovarius\n",
      "Baixando documento da espécie scinax-fuscomarginatus\n",
      "Baixando documento da espécie pseudis-bolbodactyla\n",
      "Baixando documento da espécie ololygon-skaios\n",
      "Baixando documento da espécie scinax-squalirostris\n",
      "Baixando documento da espécie scinax-tigrinus\n",
      "Baixando documento da espécie trachycephalus-typhonius\n",
      "Baixando documento da espécie dendropsophus-melanargyreus\n",
      "Baixando documento da espécie dendropsophus-jimi\n",
      "Baixando documento da espécie bokermannohyla-pseudopseudis\n",
      "Baixando documento da espécie dendropsophus-minutus\n",
      "Baixando documento da espécie boana-raniceps\n",
      "Baixando documento da espécie boana-paranaiba\n",
      "Baixando documento da espécie boana-lundii\n",
      "Baixando documento da espécie boana-goiana\n",
      "Baixando documento da espécie boana-ericae\n",
      "Baixando documento da espécie boana-crepitans\n",
      "Baixando documento da espécie boana-albopunctata\n",
      "Baixando documento da espécie aplastodiscus-lutzorum\n"
     ]
    }
   ],
   "source": [
    "arquivos_ignorar = ['modelo','README']\n",
    "\n",
    "def getDocsFamilias():\n",
    "    return [ f for f in drive.ListFile({'q':f\"'{DIRECTORY_FAMILIAS_ID}' in parents and mimeType contains 'document'\"}).GetList() \n",
    "                if f['title'] not in arquivos_ignorar ]\n",
    "    \n",
    "def getDocsEspecies():\n",
    "    return [ f for f in drive.ListFile({'q': f\"'{DIRECTORY_ESPECIES_ID}' in parents and mimeType contains 'document'\"}).GetList()\n",
    "                if f['title'] not in arquivos_ignorar ]\n",
    "    \n",
    "# Fetch all documents for each family\n",
    "def fetchProfilesDocuments():    \n",
    "    try: shutil.rmtree(TEMP_DIR)\n",
    "    except(FileNotFoundError): pass\n",
    "\n",
    "    os.makedirs(f'{TEMP_DIR}/especies')\n",
    "    os.makedirs(f'{TEMP_DIR}/familias')\n",
    "    \n",
    "    for doc in getDocsFamilias():\n",
    "        print(f\"Baixando documento da família {doc['title']}\")\n",
    "        doc.GetContentFile(f\"{TEMP_DIR}/familias/{doc['title'].lower()}.md\", mimetype=\"text/plain\")\n",
    "        \n",
    "        \n",
    "    for doc in getDocsEspecies():\n",
    "        print(f\"Baixando documento da espécie {doc['title']}\")\n",
    "        doc.GetContentFile(f\"{TEMP_DIR}/especies/{doc['title'].lower()}.md\", mimetype=\"text/plain\")\n",
    "        \n",
    "    \n",
    "fetchProfilesDocuments()\n"
   ]
  }
 ],
 "metadata": {
  "kernelspec": {
   "display_name": "base",
   "language": "python",
   "name": "python3"
  },
  "language_info": {
   "codemirror_mode": {
    "name": "ipython",
    "version": 3
   },
   "file_extension": ".py",
   "mimetype": "text/x-python",
   "name": "python",
   "nbconvert_exporter": "python",
   "pygments_lexer": "ipython3",
   "version": "3.11.7"
  }
 },
 "nbformat": 4,
 "nbformat_minor": 2
}
