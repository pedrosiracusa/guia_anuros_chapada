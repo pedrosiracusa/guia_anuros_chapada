{
 "cells": [
  {
   "cell_type": "markdown",
   "metadata": {},
   "source": [
    "# Salvamento dos dados extraídos para o destino final"
   ]
  },
  {
   "cell_type": "code",
   "execution_count": 14,
   "metadata": {},
   "outputs": [],
   "source": [
    "import os, glob, shutil"
   ]
  },
  {
   "cell_type": "markdown",
   "metadata": {},
   "source": [
    "# Textos de espécies e famílias"
   ]
  },
  {
   "cell_type": "code",
   "execution_count": 15,
   "metadata": {},
   "outputs": [],
   "source": [
    "TMPDIR = \"./tmp\"\n",
    "TMPDIR_ESPECIES_PROCESSADO = f\"{TMPDIR}/textos-perfil/especies/processado\"\n",
    "TMPDIR_FAMILIAS_PROCESSADO = f\"{TMPDIR}/textos-perfil/familias\"\n",
    "\n",
    "PROJECT_BASE=\"../../\"\n",
    "TGTDIR_ESPECIES = f\"{PROJECT_BASE}/especies\"\n",
    "TGTDIR_FAMILIAS = f\"{PROJECT_BASE}/familias\""
   ]
  },
  {
   "cell_type": "code",
   "execution_count": 16,
   "metadata": {},
   "outputs": [],
   "source": [
    "def saveEspeciesPages():\n",
    "    for fpath in glob.glob(f\"{TMPDIR_ESPECIES_PROCESSADO}/*.md\"):\n",
    "        src = fpath\n",
    "        dest = f\"{TGTDIR_ESPECIES}/{os.path.basename(fpath)}\"\n",
    "\n",
    "        shutil.copyfile(src,dest)\n",
    "        \n",
    "def saveFamiliasPages():\n",
    "    for fpath in glob.glob(f\"{TMPDIR_FAMILIAS_PROCESSADO}/*.md\"):\n",
    "        src = fpath\n",
    "        dest = f\"{TGTDIR_FAMILIAS}/{os.path.basename(fpath)}\"\n",
    "\n",
    "        shutil.copyfile(src,dest)\n"
   ]
  },
  {
   "cell_type": "code",
   "execution_count": 17,
   "metadata": {},
   "outputs": [],
   "source": [
    "saveEspeciesPages()\n",
    "saveFamiliasPages()"
   ]
  },
  {
   "cell_type": "code",
   "execution_count": null,
   "metadata": {},
   "outputs": [],
   "source": []
  }
 ],
 "metadata": {
  "kernelspec": {
   "display_name": "base",
   "language": "python",
   "name": "python3"
  },
  "language_info": {
   "codemirror_mode": {
    "name": "ipython",
    "version": 3
   },
   "file_extension": ".py",
   "mimetype": "text/x-python",
   "name": "python",
   "nbconvert_exporter": "python",
   "pygments_lexer": "ipython3",
   "version": "3.11.7"
  }
 },
 "nbformat": 4,
 "nbformat_minor": 2
}
