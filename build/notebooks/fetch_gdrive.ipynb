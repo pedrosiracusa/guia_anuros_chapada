{
 "cells": [
  {
   "cell_type": "code",
   "execution_count": 2,
   "metadata": {},
   "outputs": [],
   "source": [
    "import os.path\n",
    "from pathlib import Path\n",
    "\n",
    "from google.auth.transport.requests import Request\n",
    "from google.oauth2.credentials import Credentials\n",
    "from oauth2client.service_account import ServiceAccountCredentials\n",
    "from google_auth_oauthlib.flow import InstalledAppFlow\n",
    "from googleapiclient.discovery import build\n",
    "from googleapiclient.errors import HttpError"
   ]
  },
  {
   "cell_type": "markdown",
   "metadata": {},
   "source": [
    "# Acessando uma service account"
   ]
  },
  {
   "cell_type": "code",
   "execution_count": 3,
   "metadata": {},
   "outputs": [],
   "source": [
    "SCOPES = [\"https://www.googleapis.com/auth/drive.readonly\"]\n",
    "SERVICE_ACCOUNT_KEY_FILE = f'{Path.home()}/workspace/.sacreds/guia-anuros_service_account_key.json'\n",
    "credentials = ServiceAccountCredentials.from_json_keyfile_name(SERVICE_ACCOUNT_KEY_FILE, SCOPES)\n",
    "\n",
    "service = build('drive', 'v3', credentials=credentials)"
   ]
  },
  {
   "cell_type": "code",
   "execution_count": null,
   "metadata": {},
   "outputs": [],
   "source": [
    "NOME_DIRETORIO_RAIZ = 'Guia Anuro Chapada dos Veadeiros'\n",
    "NOME_DIRETORIO_ESPECIES='Perfil'\n",
    "\n",
    "DATA_ROOT_DIR = 'dados_guia_digital'\n",
    "SPECIES_DATA_TABLE = 'dados_especies'\n",
    "AUTORES_DATA_TABLE = 'dados_autores'\n",
    "\n",
    "# Busca arquivos e diretórios da raiz do projeto\n",
    "project_root_id = service.files().list( q=f\"name contains '{NOME_DIRETORIO_RAIZ}'\" ).execute().get('files')[0].get('id')\n",
    "project_root_items = service.files().list( q=f\"'{project_root_id}' in parents\").execute()\n",
    "\n",
    "# Busca arquivos e diretórios no diretório de dados do guia digital\n",
    "DATA_ROOT_DIR_ID = service.files().list( q=f\"name contains '{DATA_ROOT_DIR}'\" ).execute().get('files')[0].get('id')"
   ]
  },
  {
   "cell_type": "markdown",
   "metadata": {},
   "source": [
    "### Tabela de dados das espécies"
   ]
  },
  {
   "cell_type": "code",
   "execution_count": 152,
   "metadata": {},
   "outputs": [
    {
     "name": "stdout",
     "output_type": "stream",
     "text": [
      "Done! Created file speciesdata.csv with species data.\n",
      "\n"
     ]
    }
   ],
   "source": [
    "# Busca tabela de dados de espécies\n",
    "id_speciesDataTable = service.files().list(q=f\"name contains '{SPECIES_DATA_TABLE}'\").execute().get('files')[0].get('id')\n",
    "speciesDataTable = service.files().export_media( fileId=id_speciesDataTable, mimeType='text/csv').execute()\n",
    "\n",
    "fname = 'speciesdata.csv'\n",
    "with open (fname, 'wb') as f:\n",
    "    f.write(speciesDataTable)\n",
    "\n",
    "print(f\"Done! Created file {fname} with species data.\\n\")"
   ]
  },
  {
   "cell_type": "markdown",
   "metadata": {},
   "source": [
    "### Busca páginas das espécies"
   ]
  },
  {
   "cell_type": "code",
   "execution_count": 108,
   "metadata": {},
   "outputs": [],
   "source": [
    "# Busca páginas de famílias e espécies\n",
    "id_articlesFolder = list(filter( lambda x: x.get('name')==NOME_DIRETORIO_ESPECIES, project_root_items.get('files')))[0].get('id')\n",
    "\n",
    "familias_dirs = { i['name']:i['id'] for i in service.files().list(\n",
    "    q=f\"'{id_articlesFolder}' in parents and mimeType contains 'vnd.google-apps.folder'\",\n",
    "    fields='files(id,name)').execute().get('files') \n",
    "}\n",
    "\n",
    "def getFamilyDocuments(dir_id):\n",
    "    return service.files().list(\n",
    "        q=f\"'{dir_id}' in parents and mimeType contains 'vnd.google-apps.document'\",\n",
    "        fields='files(id,name)').execute().get('files')\n",
    "\n",
    "data = [ {'id':fid, 'familia_name':f, 'paginas':getFamilyDocuments(fid)} for f,fid in familias_dirs.items() ]\n"
   ]
  },
  {
   "cell_type": "code",
   "execution_count": null,
   "metadata": {},
   "outputs": [
    {
     "name": "stdout",
     "output_type": "stream",
     "text": [
      "1IPhaBl8WBpLrmO795tuWURNtr_QDqhAwTHZhDUZjDMA\n",
      "1LWdknpKD9fdK9T3wh68Zm-WaAcUGodcCYsyAY_GsiSs\n",
      "1u3vMQX791BG9M6mZtnVtsld0MRU2St0q7_58UwpRd1Q\n",
      "1928DoysFGP7G-e6QPfUBpLIG5F0R_UX3uAUZNXPgvVw\n",
      "12xClS3JQA04YmJPMjbGHASxLDLM3d7v5QCi5124BeZ4\n",
      "1McQafkqPmfYXVbAb33KAN7i2V7AWuVQLQwGpAcLBALk\n",
      "1T48xmn-oWCA3UqhSH_nDHXDwpfO8FCfIiI4RRB1akNw\n",
      "1lt0FxGhranN1cLNl4DIhRwE1SV5qxCZEbRITn9GqmBk\n",
      "1CVN12G9ddJ2tuO38D8WynKwFbi9nAc-jHx4ihncxYD4\n",
      "1aaCit7fY4nhXs0xTGGUne8V5Sh1xENdfoV1OnhZlP2k\n",
      "19dlvLGOSDnKIn4sYt1lU0XMF4ZRFqgTOPBPZEz5LtjA\n",
      "1H_guNODI2Gox_sUQUb-uIoZY6HLFeFHE7NBIvXVm_fY\n",
      "1kAN4vcsAsI-hY2xRlHZxi6h6Zd5zApJ155yKDIHaAKg\n",
      "1KXRP7oIDpPUo0fOslwYdUAQrLrGrSO8E2qLb4Y7OJqk\n",
      "1uIuVulOnMZxGtL0aC7X5BmeXWVpmkEWhXgt3dNCT5xA\n",
      "1Xw130PXOTB7sYfJkEOnhr32KqbWz-ke1_1bT-4ocnQk\n",
      "1VsNgvBxiItoeJ01E343IejcdH78rXw8Wz2IGSYWzkh4\n",
      "1abOSUiEC47a2ePSQSAZKUN8T0vSHpCnC5EsN_BuqWRk\n",
      "14UvTMsrrOOUn0iG0bfDfewllOZbvy_yWa_TZfcRbjFM\n",
      "19gATfsSJm0x32dlWUjpWisR8u0rpH7X9StIayS6JHno\n",
      "1nSU9n39T009ItDK-CBRVs5eYV7g8ZVK3Ge1Sjst5aME\n",
      "1zC1CbE_7mhae2xSlXjkwSkotYrXBzklGfyIX3BFDQCc\n",
      "1wagxrLSfPp5fu4BvezvFxeJDwRzCoZsmh50PJUTFbR8\n",
      "1MahR3Lg959Jpr0Nt5q0UfWL5OjCjYUaxYbrQB7p1-hI\n",
      "15dJYpdo0cBi650Os1l7peqGNnD_IkpBUM2cC-58WEAM\n",
      "1TdDBDVT8q5XzunbvqUhV1jvLAOTqU6VDkTq9ceCD56U\n",
      "17z_yQJQjrFlnAz8z5xT_7pHbSbkxwjdp0OAWn4BRc8Y\n",
      "1gc8tvWKlGSJ0yM0g0ArJKYo5jtzq0mvKs937655CxXI\n",
      "1n9Ir7DrHxBMkcjro9btsEzCzDurPJ6ZHz1BdyP0VUWE\n",
      "1Ih_lB_jffagNW9aFMDc8oHuw1R8tA01m3vwJHP2lCFY\n",
      "12wK3STa1WD1mc6Yo5xgrDEdCn6kCrLDMDqZeA9s1JPQ\n",
      "1tHvbpE7NT5snlbkCrj3m9FYf2oGZaxZ0qe-fe9VODks\n",
      "1iAHjs8Z4WhOQY9sk7-WMuQ-KHEIrI-0sK-24v0GPZJk\n",
      "1I72RONWhHbYhC0qOZwhXXLqghDsSASOa3KbnjCwdLeE\n",
      "11NjoPD8KJfiCsLxCe1d1paKJNOz2QNzq2z4RHfsIESs\n",
      "1D6XRlesCEazeCOMK4CwOyYbYEoCTsj-EQNVjCuqfHr8\n",
      "1z5ClkRbqJGJTJx_WAETaclm80_Lj9DPt3riyxDebVvE\n",
      "1SJsbF6bA-AvpPeAV_KQIjLlaBw1lwOoy9AQyL7LuEf8\n",
      "1yFebmVH77TtF1ByrMPz2m_mknjQX62HfXGSkBTTvZX0\n",
      "1hgSAU_rea2maJDPOPvD56jBPNiWH_u4MjukeXtvO-y0\n",
      "1wl5inELv4KAqNCjMMKB6cerRYBKUryCJabAnZ0gxM1M\n",
      "1k4mNWr8ZDsKjB_uY0vEC3i6_LrYVx-8lCc4S0gxUHTQ\n",
      "12a6Cs6kwTis4JLFcYTGxSp1ARx1XWUU-rRSvQpnOEbQ\n",
      "1ZX-dg3Z3oLlfYI2Sv4XPjt-LwBv1XQ6n34fkkCiHTlM\n",
      "1fucmRTir2HcgkyAi53zsCj4V7zpgVorGoxM2LiEoJ5M\n",
      "1HmjyRSsdPXby9sLGkB7aR6NEasyqk_up5tjPAeM2DV4\n",
      "1kiL12AFZa5xJykZ79cDCufoRXIZNZceQtUp998ZeTWQ\n",
      "1JmNoL7gKdXSFGuYY5SuiH_EIE1ChhXqBP-gIQIc49iQ\n",
      "1pU_biSRwJDAB8iAXAt2--PrDOa8NF6r4Mm5H5axdWzI\n",
      "13KFWYxUyuRN4Iw4kjAvQfKHUAL_D3UHiT9l-r7VNjBM\n",
      "1w1fPIYY2H_mPTiwNiG3WvLXF5iJ3GAGkkUvWWsBURaY\n",
      "1VtjyKgzb3Ptw_WptzsANkAezPiORt1J0y5j4SgboJrk\n",
      "1O15fYUOoU4FCC1z1rAkZeBnBy-IRM_VcNJa2EeZg2nY\n",
      "17WS_vS8jOCjpSU2Bq_Eks2P7r_AnkX-y-_0oPuM6TiM\n",
      "1vmqVEhD-26sh7NyNUQlFClYjqM_2H0yFctbLpwOMNPQ\n",
      "1kQjQHxi3-3IG8MCA0RTPeb5sqSNHd5K8lIMTicWVPC0\n"
     ]
    }
   ],
   "source": [
    "# Update species pages\n",
    "basepath = '../../especies/'\n",
    "\n",
    "for docid, species in [ (doc['id'],doc['name']) for familia in data for doc in familia.get('paginas') if doc['name'] not in ('familia')]:\n",
    "    print(species)\n",
    "    \n",
    "    request = service.files().export_media(fileId=docid, mimeType='text/plain')\n",
    "    with open(basepath+f'{species}.md', 'wb') as f:\n",
    "        f.write(request.execute())"
   ]
  },
  {
   "cell_type": "code",
   "execution_count": 132,
   "metadata": {},
   "outputs": [
    {
     "name": "stdout",
     "output_type": "stream",
     "text": [
      "siphonopidae\n",
      "odontophrynidae\n",
      "microhylidae\n",
      "leptodactylidae\n",
      "hylidae\n",
      "dendrobatidae\n",
      "craugastoridae\n",
      "bufonidae\n",
      "aromobatidae\n"
     ]
    }
   ],
   "source": [
    "# Update families pages\n",
    "basepath = '../../familias/'\n",
    "\n",
    "for docid, family in [ (doc['id'],familia['familia_name']) for familia in data for doc in familia.get('paginas') if doc['name']=='familia' ]:\n",
    "    print(family)\n",
    "    request = service.files().export_media(fileId=docid, mimeType='text/plain')\n",
    "    with open(basepath+f'{family}.md', 'wb') as f:\n",
    "        f.write(request.execute())"
   ]
  },
  {
   "cell_type": "markdown",
   "metadata": {},
   "source": [
    "### Tabela de autores"
   ]
  },
  {
   "cell_type": "code",
   "execution_count": 7,
   "metadata": {},
   "outputs": [
    {
     "name": "stdout",
     "output_type": "stream",
     "text": [
      "Done! Created file autoresdata.csv with species data.\n",
      "\n"
     ]
    }
   ],
   "source": [
    "# Busca a planilha (tabela de autores) e salva como csv \n",
    "\n",
    "id_autoresDataTable = service.files().list( q=f\"'{DATA_ROOT_DIR_ID}' in parents and name contains '{AUTORES_DATA_TABLE}' and mimeType contains 'vnd.google-apps.spreadsheet'\").execute()['files'][0].get('id')\n",
    "autoresDataTable = service.files().export_media( fileId=id_autoresDataTable, mimeType='text/csv').execute()\n",
    "\n",
    "fname = 'autoresdata.csv'\n",
    "with open (fname, 'wb') as f:\n",
    "    f.write(autoresDataTable)\n",
    "\n",
    "print(f\"Done! Created file {fname} with species data.\\n\")"
   ]
  }
 ],
 "metadata": {
  "kernelspec": {
   "display_name": "base",
   "language": "python",
   "name": "python3"
  },
  "language_info": {
   "codemirror_mode": {
    "name": "ipython",
    "version": 3
   },
   "file_extension": ".py",
   "mimetype": "text/x-python",
   "name": "python",
   "nbconvert_exporter": "python",
   "pygments_lexer": "ipython3",
   "version": "3.11.7"
  }
 },
 "nbformat": 4,
 "nbformat_minor": 2
}
