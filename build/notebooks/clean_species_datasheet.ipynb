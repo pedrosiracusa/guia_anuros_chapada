{
 "cells": [
  {
   "cell_type": "code",
   "execution_count": 567,
   "metadata": {},
   "outputs": [],
   "source": [
    "import pandas as pd\n",
    "import numpy as np\n",
    "import re\n",
    "import json"
   ]
  },
  {
   "cell_type": "code",
   "execution_count": 568,
   "metadata": {},
   "outputs": [
    {
     "data": {
      "text/html": [
       "<div>\n",
       "<style scoped>\n",
       "    .dataframe tbody tr th:only-of-type {\n",
       "        vertical-align: middle;\n",
       "    }\n",
       "\n",
       "    .dataframe tbody tr th {\n",
       "        vertical-align: top;\n",
       "    }\n",
       "\n",
       "    .dataframe thead th {\n",
       "        text-align: right;\n",
       "    }\n",
       "</style>\n",
       "<table border=\"1\" class=\"dataframe\">\n",
       "  <thead>\n",
       "    <tr style=\"text-align: right;\">\n",
       "      <th></th>\n",
       "      <th>Família</th>\n",
       "      <th>Espécie</th>\n",
       "      <th>incluir_guia_web</th>\n",
       "      <th>Texto artigo</th>\n",
       "      <th>Registro Guia</th>\n",
       "      <th>Registro Literatura</th>\n",
       "      <th>Fonte literatura</th>\n",
       "      <th>Registro novo</th>\n",
       "      <th>Regist. Guia</th>\n",
       "      <th>Literatura</th>\n",
       "      <th>...</th>\n",
       "      <th>Atividade (noturno/diurno)</th>\n",
       "      <th>Tamanho real (mm) - fêmea</th>\n",
       "      <th>Tamanho real (mm) - macho</th>\n",
       "      <th>Meses de Ocorrência</th>\n",
       "      <th>meses_ocorrencia</th>\n",
       "      <th>Chances de encontros (muito raro/raro/frequente/muito frequente)</th>\n",
       "      <th>DOI artigo descrição espécie</th>\n",
       "      <th>Link do Artigo de Descrição</th>\n",
       "      <th>Distribuição - SITE REUBER (espécies do DF)</th>\n",
       "      <th>Ameaças - SITE REUBER (espécies do DF)</th>\n",
       "    </tr>\n",
       "  </thead>\n",
       "  <tbody>\n",
       "    <tr>\n",
       "      <th>0</th>\n",
       "      <td>AROMOBATIDAE (sapos-foguete)</td>\n",
       "      <td>Allobates goianus (Bokermann, 1975)</td>\n",
       "      <td>1</td>\n",
       "      <td>ok</td>\n",
       "      <td>-</td>\n",
       "      <td>X</td>\n",
       "      <td>Santoro &amp; Brandão, 2018</td>\n",
       "      <td>-</td>\n",
       "      <td>-</td>\n",
       "      <td>X</td>\n",
       "      <td>...</td>\n",
       "      <td>diurno</td>\n",
       "      <td>16.8-17</td>\n",
       "      <td>16.8-17</td>\n",
       "      <td>chuva</td>\n",
       "      <td>out-mar</td>\n",
       "      <td>Muito raro</td>\n",
       "      <td>10.13128/Acta_Herpetol-17491</td>\n",
       "      <td>https://scholar.google.com.br/scholar?hl=en&amp;as...</td>\n",
       "      <td>-</td>\n",
       "      <td>-</td>\n",
       "    </tr>\n",
       "    <tr>\n",
       "      <th>1</th>\n",
       "      <td>BUFONIDAE (sapos-cururu)</td>\n",
       "      <td>Rhaebo guttatus (Schneider, 1799)</td>\n",
       "      <td>1</td>\n",
       "      <td>ok</td>\n",
       "      <td>-</td>\n",
       "      <td>X</td>\n",
       "      <td>Santoro &amp; Brandão, 2018</td>\n",
       "      <td>-</td>\n",
       "      <td>-</td>\n",
       "      <td>X</td>\n",
       "      <td>...</td>\n",
       "      <td>noturno</td>\n",
       "      <td>174</td>\n",
       "      <td>121</td>\n",
       "      <td>NaN</td>\n",
       "      <td>NaN</td>\n",
       "      <td>Raro</td>\n",
       "      <td>só pdf</td>\n",
       "      <td>NaN</td>\n",
       "      <td>-</td>\n",
       "      <td>-</td>\n",
       "    </tr>\n",
       "    <tr>\n",
       "      <th>2</th>\n",
       "      <td>BUFONIDAE (sapos-cururu)</td>\n",
       "      <td>Rhinella mirandaribeiroi (Gallardo, 1965)</td>\n",
       "      <td>1</td>\n",
       "      <td>ok</td>\n",
       "      <td>X</td>\n",
       "      <td>X</td>\n",
       "      <td>Santoro &amp; Brandão, 2018</td>\n",
       "      <td>-</td>\n",
       "      <td>X</td>\n",
       "      <td>-</td>\n",
       "      <td>...</td>\n",
       "      <td>noturno</td>\n",
       "      <td>49-73</td>\n",
       "      <td>40-71</td>\n",
       "      <td>janeiro, fevereiro, setembro e outubro</td>\n",
       "      <td>jan-fev, set-out</td>\n",
       "      <td>Raro</td>\n",
       "      <td>0.11606/issn.2176-7793.v40i1p1-73</td>\n",
       "      <td>https://scihub.to/10.11606/issn.2176-7793.v40i...</td>\n",
       "      <td>-</td>\n",
       "      <td>-</td>\n",
       "    </tr>\n",
       "    <tr>\n",
       "      <th>3</th>\n",
       "      <td>BUFONIDAE (sapos-cururu)</td>\n",
       "      <td>Rhinella ocellata (Günther, 1858)</td>\n",
       "      <td>1</td>\n",
       "      <td>ok</td>\n",
       "      <td>X</td>\n",
       "      <td>NaN</td>\n",
       "      <td>NaN</td>\n",
       "      <td>NaN</td>\n",
       "      <td>X</td>\n",
       "      <td>-</td>\n",
       "      <td>...</td>\n",
       "      <td>noturno</td>\n",
       "      <td>44</td>\n",
       "      <td>44</td>\n",
       "      <td>chuva até março</td>\n",
       "      <td>out-mar</td>\n",
       "      <td>Frequente</td>\n",
       "      <td>https://doi.org/10.1016/j.ympev.2006.12.006</td>\n",
       "      <td>http://kops.uni-konstanz.de/bitstream/handle/1...</td>\n",
       "      <td>Tocantins, Para´, Mato Grosso, Minas Gerais, a...</td>\n",
       "      <td>-</td>\n",
       "    </tr>\n",
       "    <tr>\n",
       "      <th>4</th>\n",
       "      <td>BUFONIDAE (sapos-cururu)</td>\n",
       "      <td>Rhinella rubescens (Lutz, 1925)</td>\n",
       "      <td>1</td>\n",
       "      <td>ok</td>\n",
       "      <td>X</td>\n",
       "      <td>X</td>\n",
       "      <td>Santoro &amp; Brandão, 2018</td>\n",
       "      <td>-</td>\n",
       "      <td>X</td>\n",
       "      <td>-</td>\n",
       "      <td>...</td>\n",
       "      <td>noturno</td>\n",
       "      <td>90</td>\n",
       "      <td>90</td>\n",
       "      <td>ano todo</td>\n",
       "      <td>jan-dez</td>\n",
       "      <td>Frequente</td>\n",
       "      <td>NaN</td>\n",
       "      <td>NaN</td>\n",
       "      <td>Espécie com ampla distribuição associada ao bi...</td>\n",
       "      <td>Desmatamentos e remoção de hábitats constituem...</td>\n",
       "    </tr>\n",
       "  </tbody>\n",
       "</table>\n",
       "<p>5 rows × 41 columns</p>\n",
       "</div>"
      ],
      "text/plain": [
       "                        Família                                    Espécie  \\\n",
       "0  AROMOBATIDAE (sapos-foguete)        Allobates goianus (Bokermann, 1975)   \n",
       "1      BUFONIDAE (sapos-cururu)          Rhaebo guttatus (Schneider, 1799)   \n",
       "2      BUFONIDAE (sapos-cururu)  Rhinella mirandaribeiroi (Gallardo, 1965)   \n",
       "3      BUFONIDAE (sapos-cururu)          Rhinella ocellata (Günther, 1858)   \n",
       "4      BUFONIDAE (sapos-cururu)            Rhinella rubescens (Lutz, 1925)   \n",
       "\n",
       "   incluir_guia_web Texto artigo Registro Guia Registro Literatura  \\\n",
       "0                 1           ok             -                   X   \n",
       "1                 1           ok             -                   X   \n",
       "2                 1           ok             X                   X   \n",
       "3                 1           ok             X                 NaN   \n",
       "4                 1           ok             X                   X   \n",
       "\n",
       "          Fonte literatura Registro novo Regist. Guia Literatura  ...  \\\n",
       "0  Santoro & Brandão, 2018             -            -          X  ...   \n",
       "1  Santoro & Brandão, 2018             -            -          X  ...   \n",
       "2  Santoro & Brandão, 2018             -            X          -  ...   \n",
       "3                      NaN           NaN            X          -  ...   \n",
       "4  Santoro & Brandão, 2018             -            X          -  ...   \n",
       "\n",
       "   Atividade (noturno/diurno) Tamanho real (mm) - fêmea  \\\n",
       "0                      diurno                   16.8-17   \n",
       "1                     noturno                       174   \n",
       "2                     noturno                     49-73   \n",
       "3                     noturno                        44   \n",
       "4                     noturno                        90   \n",
       "\n",
       "  Tamanho real (mm) - macho                     Meses de Ocorrência  \\\n",
       "0                   16.8-17                                   chuva   \n",
       "1                       121                                     NaN   \n",
       "2                     40-71  janeiro, fevereiro, setembro e outubro   \n",
       "3                        44                         chuva até março   \n",
       "4                        90                                ano todo   \n",
       "\n",
       "   meses_ocorrencia  \\\n",
       "0           out-mar   \n",
       "1               NaN   \n",
       "2  jan-fev, set-out   \n",
       "3           out-mar   \n",
       "4           jan-dez   \n",
       "\n",
       "  Chances de encontros (muito raro/raro/frequente/muito frequente)  \\\n",
       "0                                         Muito raro                 \n",
       "1                                               Raro                 \n",
       "2                                               Raro                 \n",
       "3                                          Frequente                 \n",
       "4                                          Frequente                 \n",
       "\n",
       "                  DOI artigo descrição espécie  \\\n",
       "0                 10.13128/Acta_Herpetol-17491   \n",
       "1                                       só pdf   \n",
       "2            0.11606/issn.2176-7793.v40i1p1-73   \n",
       "3  https://doi.org/10.1016/j.ympev.2006.12.006   \n",
       "4                                          NaN   \n",
       "\n",
       "                         Link do Artigo de Descrição  \\\n",
       "0  https://scholar.google.com.br/scholar?hl=en&as...   \n",
       "1                                                NaN   \n",
       "2  https://scihub.to/10.11606/issn.2176-7793.v40i...   \n",
       "3  http://kops.uni-konstanz.de/bitstream/handle/1...   \n",
       "4                                                NaN   \n",
       "\n",
       "         Distribuição - SITE REUBER (espécies do DF)  \\\n",
       "0                                                  -   \n",
       "1                                                  -   \n",
       "2                                                  -   \n",
       "3  Tocantins, Para´, Mato Grosso, Minas Gerais, a...   \n",
       "4  Espécie com ampla distribuição associada ao bi...   \n",
       "\n",
       "              Ameaças - SITE REUBER (espécies do DF)  \n",
       "0                                                  -  \n",
       "1                                                  -  \n",
       "2                                                  -  \n",
       "3                                                  -  \n",
       "4  Desmatamentos e remoção de hábitats constituem...  \n",
       "\n",
       "[5 rows x 41 columns]"
      ]
     },
     "execution_count": 568,
     "metadata": {},
     "output_type": "execute_result"
    }
   ],
   "source": [
    "dataFile = 'tmp/speciesdata.csv'\n",
    "df = pd.read_csv(dataFile)\n",
    "df = df[df['incluir_guia_web']==1]\n",
    "#df.info()\n",
    "df.head()"
   ]
  },
  {
   "cell_type": "code",
   "execution_count": 569,
   "metadata": {},
   "outputs": [],
   "source": [
    "df.rename( {'Espécie':'scientificName',\n",
    "            'Família':'family',\n",
    "            'Nome Comum': 'vernacularNames',\n",
    "            'Fitofisionomias': 'phytos',\n",
    "            'Postura dos ovos (habitat breeding)*': 'habitat_breeding',\n",
    "            'Habitat de vida (mata ou floresta/area aberta/pedras)*':'habitat',\n",
    "            'Tamanho real (mm) - fêmea':'tamanho_femea',\n",
    "            'Tamanho real (mm) - macho':'tamanho_macho',\n",
    "            'Chances de encontros (muito raro/raro/frequente/muito frequente)': 'detectability'}, axis=1, inplace=True)"
   ]
  },
  {
   "cell_type": "code",
   "execution_count": 570,
   "metadata": {},
   "outputs": [
    {
     "data": {
      "text/html": [
       "<div>\n",
       "<style scoped>\n",
       "    .dataframe tbody tr th:only-of-type {\n",
       "        vertical-align: middle;\n",
       "    }\n",
       "\n",
       "    .dataframe tbody tr th {\n",
       "        vertical-align: top;\n",
       "    }\n",
       "\n",
       "    .dataframe thead th {\n",
       "        text-align: right;\n",
       "    }\n",
       "</style>\n",
       "<table border=\"1\" class=\"dataframe\">\n",
       "  <thead>\n",
       "    <tr style=\"text-align: right;\">\n",
       "      <th></th>\n",
       "      <th>family</th>\n",
       "      <th>scientificName</th>\n",
       "      <th>incluir_guia_web</th>\n",
       "      <th>Texto artigo</th>\n",
       "      <th>Registro Guia</th>\n",
       "      <th>Registro Literatura</th>\n",
       "      <th>Fonte literatura</th>\n",
       "      <th>Registro novo</th>\n",
       "      <th>Regist. Guia</th>\n",
       "      <th>Literatura</th>\n",
       "      <th>...</th>\n",
       "      <th>Atividade (noturno/diurno)</th>\n",
       "      <th>tamanho_femea</th>\n",
       "      <th>tamanho_macho</th>\n",
       "      <th>Meses de Ocorrência</th>\n",
       "      <th>meses_ocorrencia</th>\n",
       "      <th>detectability</th>\n",
       "      <th>DOI artigo descrição espécie</th>\n",
       "      <th>Link do Artigo de Descrição</th>\n",
       "      <th>Distribuição - SITE REUBER (espécies do DF)</th>\n",
       "      <th>Ameaças - SITE REUBER (espécies do DF)</th>\n",
       "    </tr>\n",
       "  </thead>\n",
       "  <tbody>\n",
       "    <tr>\n",
       "      <th>0</th>\n",
       "      <td>AROMOBATIDAE (sapos-foguete)</td>\n",
       "      <td>Allobates goianus (Bokermann, 1975)</td>\n",
       "      <td>1</td>\n",
       "      <td>ok</td>\n",
       "      <td>-</td>\n",
       "      <td>X</td>\n",
       "      <td>Santoro &amp; Brandão, 2018</td>\n",
       "      <td>-</td>\n",
       "      <td>-</td>\n",
       "      <td>X</td>\n",
       "      <td>...</td>\n",
       "      <td>diurno</td>\n",
       "      <td>16.8-17</td>\n",
       "      <td>16.8-17</td>\n",
       "      <td>chuva</td>\n",
       "      <td>out-mar</td>\n",
       "      <td>Muito raro</td>\n",
       "      <td>10.13128/Acta_Herpetol-17491</td>\n",
       "      <td>https://scholar.google.com.br/scholar?hl=en&amp;as...</td>\n",
       "      <td>-</td>\n",
       "      <td>-</td>\n",
       "    </tr>\n",
       "    <tr>\n",
       "      <th>1</th>\n",
       "      <td>BUFONIDAE (sapos-cururu)</td>\n",
       "      <td>Rhaebo guttatus (Schneider, 1799)</td>\n",
       "      <td>1</td>\n",
       "      <td>ok</td>\n",
       "      <td>-</td>\n",
       "      <td>X</td>\n",
       "      <td>Santoro &amp; Brandão, 2018</td>\n",
       "      <td>-</td>\n",
       "      <td>-</td>\n",
       "      <td>X</td>\n",
       "      <td>...</td>\n",
       "      <td>noturno</td>\n",
       "      <td>174</td>\n",
       "      <td>121</td>\n",
       "      <td>NaN</td>\n",
       "      <td>NaN</td>\n",
       "      <td>Raro</td>\n",
       "      <td>só pdf</td>\n",
       "      <td>NaN</td>\n",
       "      <td>-</td>\n",
       "      <td>-</td>\n",
       "    </tr>\n",
       "    <tr>\n",
       "      <th>2</th>\n",
       "      <td>BUFONIDAE (sapos-cururu)</td>\n",
       "      <td>Rhinella mirandaribeiroi (Gallardo, 1965)</td>\n",
       "      <td>1</td>\n",
       "      <td>ok</td>\n",
       "      <td>X</td>\n",
       "      <td>X</td>\n",
       "      <td>Santoro &amp; Brandão, 2018</td>\n",
       "      <td>-</td>\n",
       "      <td>X</td>\n",
       "      <td>-</td>\n",
       "      <td>...</td>\n",
       "      <td>noturno</td>\n",
       "      <td>49-73</td>\n",
       "      <td>40-71</td>\n",
       "      <td>janeiro, fevereiro, setembro e outubro</td>\n",
       "      <td>jan-fev, set-out</td>\n",
       "      <td>Raro</td>\n",
       "      <td>0.11606/issn.2176-7793.v40i1p1-73</td>\n",
       "      <td>https://scihub.to/10.11606/issn.2176-7793.v40i...</td>\n",
       "      <td>-</td>\n",
       "      <td>-</td>\n",
       "    </tr>\n",
       "  </tbody>\n",
       "</table>\n",
       "<p>3 rows × 41 columns</p>\n",
       "</div>"
      ],
      "text/plain": [
       "                         family                             scientificName  \\\n",
       "0  AROMOBATIDAE (sapos-foguete)        Allobates goianus (Bokermann, 1975)   \n",
       "1      BUFONIDAE (sapos-cururu)          Rhaebo guttatus (Schneider, 1799)   \n",
       "2      BUFONIDAE (sapos-cururu)  Rhinella mirandaribeiroi (Gallardo, 1965)   \n",
       "\n",
       "   incluir_guia_web Texto artigo Registro Guia Registro Literatura  \\\n",
       "0                 1           ok             -                   X   \n",
       "1                 1           ok             -                   X   \n",
       "2                 1           ok             X                   X   \n",
       "\n",
       "          Fonte literatura Registro novo Regist. Guia Literatura  ...  \\\n",
       "0  Santoro & Brandão, 2018             -            -          X  ...   \n",
       "1  Santoro & Brandão, 2018             -            -          X  ...   \n",
       "2  Santoro & Brandão, 2018             -            X          -  ...   \n",
       "\n",
       "   Atividade (noturno/diurno) tamanho_femea tamanho_macho  \\\n",
       "0                      diurno       16.8-17       16.8-17   \n",
       "1                     noturno           174           121   \n",
       "2                     noturno         49-73         40-71   \n",
       "\n",
       "                      Meses de Ocorrência  meses_ocorrencia detectability  \\\n",
       "0                                   chuva           out-mar    Muito raro   \n",
       "1                                     NaN               NaN          Raro   \n",
       "2  janeiro, fevereiro, setembro e outubro  jan-fev, set-out          Raro   \n",
       "\n",
       "        DOI artigo descrição espécie  \\\n",
       "0       10.13128/Acta_Herpetol-17491   \n",
       "1                             só pdf   \n",
       "2  0.11606/issn.2176-7793.v40i1p1-73   \n",
       "\n",
       "                         Link do Artigo de Descrição  \\\n",
       "0  https://scholar.google.com.br/scholar?hl=en&as...   \n",
       "1                                                NaN   \n",
       "2  https://scihub.to/10.11606/issn.2176-7793.v40i...   \n",
       "\n",
       "  Distribuição - SITE REUBER (espécies do DF)  \\\n",
       "0                                           -   \n",
       "1                                           -   \n",
       "2                                           -   \n",
       "\n",
       "  Ameaças - SITE REUBER (espécies do DF)  \n",
       "0                                      -  \n",
       "1                                      -  \n",
       "2                                      -  \n",
       "\n",
       "[3 rows x 41 columns]"
      ]
     },
     "execution_count": 570,
     "metadata": {},
     "output_type": "execute_result"
    }
   ],
   "source": [
    "df.head(3)"
   ]
  },
  {
   "cell_type": "markdown",
   "metadata": {},
   "source": [
    "### Species name, id and Authorship"
   ]
  },
  {
   "cell_type": "code",
   "execution_count": 571,
   "metadata": {},
   "outputs": [
    {
     "name": "stderr",
     "output_type": "stream",
     "text": [
      "/tmp/ipykernel_619375/2063698823.py:4: FutureWarning: Series.__getitem__ treating keys as positions is deprecated. In a future version, integer keys will always be treated as labels (consistent with DataFrame behavior). To access a value by position, use `ser.iloc[pos]`\n",
      "  df['scientificNameAuthorship'] = df[['scientificName_withAuthorship','scientificName']].apply(lambda x: x[0][len(x[1]):], axis=1)\n"
     ]
    }
   ],
   "source": [
    "df['scientificName_withAuthorship']=df['scientificName']\n",
    "df['scientificName'] = df['scientificName_withAuthorship'].apply(lambda x: re.findall( '^\\w+(?: cf.| aff.)? \\w+\\.?', str(x))[0])\n",
    "\n",
    "df['scientificNameAuthorship'] = df[['scientificName_withAuthorship','scientificName']].apply(lambda x: x[0][len(x[1]):], axis=1)\n",
    "df['scientificNameAuthorship'] = df['scientificNameAuthorship'].apply(lambda x: re.findall( '[\\w,\\s\\-&]+', str(x) )).apply(lambda x: ''.join(x).strip())\n",
    "\n",
    "ids = df['scientificName'].str.replace('\\s','-', regex=True).str.replace('[.]','', regex=True).str.lower()\n",
    "df.insert(0, 'id', ids)\n",
    "\n",
    "df.drop('scientificName_withAuthorship', axis=1, inplace=True)"
   ]
  },
  {
   "cell_type": "code",
   "execution_count": 572,
   "metadata": {},
   "outputs": [
    {
     "data": {
      "text/html": [
       "<div>\n",
       "<style scoped>\n",
       "    .dataframe tbody tr th:only-of-type {\n",
       "        vertical-align: middle;\n",
       "    }\n",
       "\n",
       "    .dataframe tbody tr th {\n",
       "        vertical-align: top;\n",
       "    }\n",
       "\n",
       "    .dataframe thead th {\n",
       "        text-align: right;\n",
       "    }\n",
       "</style>\n",
       "<table border=\"1\" class=\"dataframe\">\n",
       "  <thead>\n",
       "    <tr style=\"text-align: right;\">\n",
       "      <th></th>\n",
       "      <th>id</th>\n",
       "      <th>scientificName</th>\n",
       "      <th>scientificNameAuthorship</th>\n",
       "    </tr>\n",
       "  </thead>\n",
       "  <tbody>\n",
       "    <tr>\n",
       "      <th>0</th>\n",
       "      <td>allobates-goianus</td>\n",
       "      <td>Allobates goianus</td>\n",
       "      <td>Bokermann, 1975</td>\n",
       "    </tr>\n",
       "    <tr>\n",
       "      <th>1</th>\n",
       "      <td>rhaebo-guttatus</td>\n",
       "      <td>Rhaebo guttatus</td>\n",
       "      <td>Schneider, 1799</td>\n",
       "    </tr>\n",
       "    <tr>\n",
       "      <th>2</th>\n",
       "      <td>rhinella-mirandaribeiroi</td>\n",
       "      <td>Rhinella mirandaribeiroi</td>\n",
       "      <td>Gallardo, 1965</td>\n",
       "    </tr>\n",
       "  </tbody>\n",
       "</table>\n",
       "</div>"
      ],
      "text/plain": [
       "                         id            scientificName scientificNameAuthorship\n",
       "0         allobates-goianus         Allobates goianus          Bokermann, 1975\n",
       "1           rhaebo-guttatus           Rhaebo guttatus          Schneider, 1799\n",
       "2  rhinella-mirandaribeiroi  Rhinella mirandaribeiroi           Gallardo, 1965"
      ]
     },
     "execution_count": 572,
     "metadata": {},
     "output_type": "execute_result"
    }
   ],
   "source": [
    "df[['id','scientificName','scientificNameAuthorship']].head(3)"
   ]
  },
  {
   "cell_type": "markdown",
   "metadata": {},
   "source": [
    "### Family name and id"
   ]
  },
  {
   "cell_type": "code",
   "execution_count": 573,
   "metadata": {},
   "outputs": [],
   "source": [
    "df['family'] = df['family'].str.extract(\"([A-Za-z]+)\")[0].apply(lambda x: x.capitalize())\n",
    "df['family_id'] = df['family'].str.lower()"
   ]
  },
  {
   "cell_type": "code",
   "execution_count": 574,
   "metadata": {},
   "outputs": [
    {
     "data": {
      "text/plain": [
       "family           family_id      \n",
       "Hylidae          hylidae            24\n",
       "Leptodactylidae  leptodactylidae    17\n",
       "Bufonidae        bufonidae           5\n",
       "Odontophrynidae  odontophrynidae     5\n",
       "Microhylidae     microhylidae        2\n",
       "Aromobatidae     aromobatidae        1\n",
       "Dendrobatidae    dendrobatidae       1\n",
       "Siphonopidae     siphonopidae        1\n",
       "Strabomantidae   strabomantidae      1\n",
       "Name: count, dtype: int64"
      ]
     },
     "execution_count": 574,
     "metadata": {},
     "output_type": "execute_result"
    }
   ],
   "source": [
    "df[['family','family_id']].value_counts()"
   ]
  },
  {
   "cell_type": "markdown",
   "metadata": {},
   "source": [
    "### Vernacular name"
   ]
  },
  {
   "cell_type": "code",
   "execution_count": 575,
   "metadata": {},
   "outputs": [],
   "source": [
    "def extractVernacularNames(string):\n",
    "    if pd.isna(string): string=''\n",
    "    names = re.split('/|;|,',string)\n",
    "    names = [ n.strip().replace(' ','-').capitalize() for n in names ]\n",
    "    if len(names)==1 and names[0]=='':\n",
    "        return []\n",
    "    else:\n",
    "        return names\n",
    "\n",
    "df['vernacularNames'] = df['vernacularNames'].apply(extractVernacularNames)"
   ]
  },
  {
   "cell_type": "code",
   "execution_count": 576,
   "metadata": {},
   "outputs": [
    {
     "data": {
      "text/plain": [
       "0    [Sapo-foguete-de-goiás]\n",
       "1          [Cururu-de-couro]\n",
       "2              [Sapo-cururu]\n",
       "Name: vernacularNames, dtype: object"
      ]
     },
     "execution_count": 576,
     "metadata": {},
     "output_type": "execute_result"
    }
   ],
   "source": [
    "df['vernacularNames'].head(3)"
   ]
  },
  {
   "cell_type": "markdown",
   "metadata": {},
   "source": [
    "### Red list"
   ]
  },
  {
   "cell_type": "code",
   "execution_count": 577,
   "metadata": {},
   "outputs": [],
   "source": [
    "df['Red List'] = df['Red List'].str.lower()\n",
    "df.loc[ df['Red List']=='não avaliada','Red List']='ne'\n",
    "df = pd.get_dummies(data=df, prefix='redlist', columns=['Red List'], dtype=int)"
   ]
  },
  {
   "cell_type": "code",
   "execution_count": 578,
   "metadata": {},
   "outputs": [
    {
     "data": {
      "text/html": [
       "<div>\n",
       "<style scoped>\n",
       "    .dataframe tbody tr th:only-of-type {\n",
       "        vertical-align: middle;\n",
       "    }\n",
       "\n",
       "    .dataframe tbody tr th {\n",
       "        vertical-align: top;\n",
       "    }\n",
       "\n",
       "    .dataframe thead th {\n",
       "        text-align: right;\n",
       "    }\n",
       "</style>\n",
       "<table border=\"1\" class=\"dataframe\">\n",
       "  <thead>\n",
       "    <tr style=\"text-align: right;\">\n",
       "      <th></th>\n",
       "      <th>redlist_dd</th>\n",
       "      <th>redlist_lc</th>\n",
       "      <th>redlist_ne</th>\n",
       "    </tr>\n",
       "  </thead>\n",
       "  <tbody>\n",
       "    <tr>\n",
       "      <th>0</th>\n",
       "      <td>1</td>\n",
       "      <td>0</td>\n",
       "      <td>0</td>\n",
       "    </tr>\n",
       "    <tr>\n",
       "      <th>1</th>\n",
       "      <td>0</td>\n",
       "      <td>1</td>\n",
       "      <td>0</td>\n",
       "    </tr>\n",
       "    <tr>\n",
       "      <th>2</th>\n",
       "      <td>0</td>\n",
       "      <td>0</td>\n",
       "      <td>1</td>\n",
       "    </tr>\n",
       "  </tbody>\n",
       "</table>\n",
       "</div>"
      ],
      "text/plain": [
       "   redlist_dd  redlist_lc  redlist_ne\n",
       "0           1           0           0\n",
       "1           0           1           0\n",
       "2           0           0           1"
      ]
     },
     "execution_count": 578,
     "metadata": {},
     "output_type": "execute_result"
    }
   ],
   "source": [
    "df[['redlist_dd','redlist_lc', 'redlist_ne'  ]].head(3)"
   ]
  },
  {
   "cell_type": "markdown",
   "metadata": {},
   "source": [
    "### Endemicidade"
   ]
  },
  {
   "cell_type": "code",
   "execution_count": 579,
   "metadata": {},
   "outputs": [],
   "source": [
    "df['endemic_cerrado'] = df['Endêmico (Cerrado)'].apply(lambda x: 1 if x=='sim' else 0)\n",
    "df['endemic_chapada'] = df['Endêmico (Chapada)'].apply(lambda x: 1 if x=='sim' else 0)\n",
    "df.drop('Endêmico (Chapada)', axis=1, inplace=True)\n",
    "df.drop('Endêmico (Cerrado)', axis=1, inplace=True)\n",
    "\n",
    "# Helpers\n",
    "getInsideParentheses = lambda x: [ str.lower(e) for e in re.findall( '\\((.{0,5})\\)', str(x) ) ]"
   ]
  },
  {
   "cell_type": "code",
   "execution_count": 580,
   "metadata": {},
   "outputs": [
    {
     "data": {
      "text/html": [
       "<div>\n",
       "<style scoped>\n",
       "    .dataframe tbody tr th:only-of-type {\n",
       "        vertical-align: middle;\n",
       "    }\n",
       "\n",
       "    .dataframe tbody tr th {\n",
       "        vertical-align: top;\n",
       "    }\n",
       "\n",
       "    .dataframe thead th {\n",
       "        text-align: right;\n",
       "    }\n",
       "</style>\n",
       "<table border=\"1\" class=\"dataframe\">\n",
       "  <thead>\n",
       "    <tr style=\"text-align: right;\">\n",
       "      <th></th>\n",
       "      <th>endemic_cerrado</th>\n",
       "      <th>endemic_chapada</th>\n",
       "    </tr>\n",
       "  </thead>\n",
       "  <tbody>\n",
       "    <tr>\n",
       "      <th>0</th>\n",
       "      <td>1</td>\n",
       "      <td>0</td>\n",
       "    </tr>\n",
       "    <tr>\n",
       "      <th>1</th>\n",
       "      <td>0</td>\n",
       "      <td>0</td>\n",
       "    </tr>\n",
       "    <tr>\n",
       "      <th>2</th>\n",
       "      <td>1</td>\n",
       "      <td>0</td>\n",
       "    </tr>\n",
       "  </tbody>\n",
       "</table>\n",
       "</div>"
      ],
      "text/plain": [
       "   endemic_cerrado  endemic_chapada\n",
       "0                1                0\n",
       "1                0                0\n",
       "2                1                0"
      ]
     },
     "execution_count": 580,
     "metadata": {},
     "output_type": "execute_result"
    }
   ],
   "source": [
    "df[['endemic_cerrado','endemic_chapada']].head(3)"
   ]
  },
  {
   "cell_type": "markdown",
   "metadata": {},
   "source": [
    "### Detectability"
   ]
  },
  {
   "cell_type": "code",
   "execution_count": 581,
   "metadata": {},
   "outputs": [],
   "source": [
    "df['detectability'] = df['detectability']\\\n",
    "    .str.replace('[^\\w]','',regex=True)\\\n",
    "    .str.replace('ê','e')\\\n",
    "    .str.lower()\n",
    "    \n",
    "subst_dict = {\n",
    "    'muitofrequente': 'ff',\n",
    "    'frequente':'f',\n",
    "    'raro': 'r',\n",
    "    'muitoraro': 'rr'\n",
    "}\n",
    "\n",
    "df['detectability'] = df['detectability'].apply(lambda x: subst_dict[x] if x is not np.NaN else x)\n",
    "df = pd.get_dummies(df, prefix='detectability',columns=['detectability'], dtype=int)"
   ]
  },
  {
   "cell_type": "code",
   "execution_count": 582,
   "metadata": {},
   "outputs": [
    {
     "data": {
      "text/html": [
       "<div>\n",
       "<style scoped>\n",
       "    .dataframe tbody tr th:only-of-type {\n",
       "        vertical-align: middle;\n",
       "    }\n",
       "\n",
       "    .dataframe tbody tr th {\n",
       "        vertical-align: top;\n",
       "    }\n",
       "\n",
       "    .dataframe thead th {\n",
       "        text-align: right;\n",
       "    }\n",
       "</style>\n",
       "<table border=\"1\" class=\"dataframe\">\n",
       "  <thead>\n",
       "    <tr style=\"text-align: right;\">\n",
       "      <th></th>\n",
       "      <th>detectability_f</th>\n",
       "      <th>detectability_ff</th>\n",
       "      <th>detectability_r</th>\n",
       "      <th>detectability_rr</th>\n",
       "    </tr>\n",
       "  </thead>\n",
       "  <tbody>\n",
       "    <tr>\n",
       "      <th>0</th>\n",
       "      <td>0</td>\n",
       "      <td>0</td>\n",
       "      <td>0</td>\n",
       "      <td>1</td>\n",
       "    </tr>\n",
       "    <tr>\n",
       "      <th>1</th>\n",
       "      <td>0</td>\n",
       "      <td>0</td>\n",
       "      <td>1</td>\n",
       "      <td>0</td>\n",
       "    </tr>\n",
       "    <tr>\n",
       "      <th>2</th>\n",
       "      <td>0</td>\n",
       "      <td>0</td>\n",
       "      <td>1</td>\n",
       "      <td>0</td>\n",
       "    </tr>\n",
       "  </tbody>\n",
       "</table>\n",
       "</div>"
      ],
      "text/plain": [
       "   detectability_f  detectability_ff  detectability_r  detectability_rr\n",
       "0                0                 0                0                 1\n",
       "1                0                 0                1                 0\n",
       "2                0                 0                1                 0"
      ]
     },
     "execution_count": 582,
     "metadata": {},
     "output_type": "execute_result"
    }
   ],
   "source": [
    "df[['detectability_f','detectability_ff','detectability_r', 'detectability_rr']].head(3)"
   ]
  },
  {
   "cell_type": "markdown",
   "metadata": {},
   "source": [
    "### Poleiro"
   ]
  },
  {
   "cell_type": "code",
   "execution_count": 583,
   "metadata": {},
   "outputs": [],
   "source": [
    "df['poleiro'] = df['Poleiro (tipical calling perch)* '].apply( getInsideParentheses )\n",
    "df.drop('Poleiro (tipical calling perch)* ', axis=1, inplace=True)\n",
    "\n",
    "poleiro_types = list(set( el for ls in df['poleiro'] for el in ls))\n",
    "\n",
    "for tp in poleiro_types:\n",
    "    df[f'tcp_{tp}'] = df['poleiro'].apply(lambda x: 1 if f'{tp}' in x else 0)\n",
    "    \n",
    "df.drop('poleiro', axis=1, inplace=True)"
   ]
  },
  {
   "cell_type": "code",
   "execution_count": 584,
   "metadata": {},
   "outputs": [
    {
     "data": {
      "text/html": [
       "<div>\n",
       "<style scoped>\n",
       "    .dataframe tbody tr th:only-of-type {\n",
       "        vertical-align: middle;\n",
       "    }\n",
       "\n",
       "    .dataframe tbody tr th {\n",
       "        vertical-align: top;\n",
       "    }\n",
       "\n",
       "    .dataframe thead th {\n",
       "        text-align: right;\n",
       "    }\n",
       "</style>\n",
       "<table border=\"1\" class=\"dataframe\">\n",
       "  <thead>\n",
       "    <tr style=\"text-align: right;\">\n",
       "      <th></th>\n",
       "      <th>tcp_gr</th>\n",
       "      <th>tcp_hb</th>\n",
       "      <th>tcp_lb</th>\n",
       "      <th>tcp_te</th>\n",
       "      <th>tcp_tr</th>\n",
       "    </tr>\n",
       "  </thead>\n",
       "  <tbody>\n",
       "    <tr>\n",
       "      <th>0</th>\n",
       "      <td>0</td>\n",
       "      <td>0</td>\n",
       "      <td>0</td>\n",
       "      <td>1</td>\n",
       "      <td>0</td>\n",
       "    </tr>\n",
       "    <tr>\n",
       "      <th>1</th>\n",
       "      <td>0</td>\n",
       "      <td>0</td>\n",
       "      <td>0</td>\n",
       "      <td>1</td>\n",
       "      <td>0</td>\n",
       "    </tr>\n",
       "    <tr>\n",
       "      <th>2</th>\n",
       "      <td>0</td>\n",
       "      <td>0</td>\n",
       "      <td>0</td>\n",
       "      <td>1</td>\n",
       "      <td>0</td>\n",
       "    </tr>\n",
       "  </tbody>\n",
       "</table>\n",
       "</div>"
      ],
      "text/plain": [
       "   tcp_gr  tcp_hb  tcp_lb  tcp_te  tcp_tr\n",
       "0       0       0       0       1       0\n",
       "1       0       0       0       1       0\n",
       "2       0       0       0       1       0"
      ]
     },
     "execution_count": 584,
     "metadata": {},
     "output_type": "execute_result"
    }
   ],
   "source": [
    "df[['tcp_gr','tcp_hb','tcp_lb','tcp_te','tcp_tr']].head(3)"
   ]
  },
  {
   "cell_type": "markdown",
   "metadata": {},
   "source": [
    "### Habitat breeding"
   ]
  },
  {
   "cell_type": "code",
   "execution_count": 585,
   "metadata": {},
   "outputs": [],
   "source": [
    "matches = df['habitat_breeding'].str.lower().str.extractall('\\((\\w+)\\)')\n",
    "hb_dummies = pd.get_dummies(matches, prefix=\"habitat_breeding\").groupby(level=0).sum()\n",
    "\n",
    "hb_dummies = hb_dummies.reindex(df.index).fillna(0).astype(int)\n",
    "\n",
    "df = pd.concat([df,hb_dummies], axis=1)\n",
    "df.drop('habitat_breeding',axis=1, inplace=True)"
   ]
  },
  {
   "cell_type": "code",
   "execution_count": 586,
   "metadata": {},
   "outputs": [
    {
     "data": {
      "text/html": [
       "<div>\n",
       "<style scoped>\n",
       "    .dataframe tbody tr th:only-of-type {\n",
       "        vertical-align: middle;\n",
       "    }\n",
       "\n",
       "    .dataframe tbody tr th {\n",
       "        vertical-align: top;\n",
       "    }\n",
       "\n",
       "    .dataframe thead th {\n",
       "        text-align: right;\n",
       "    }\n",
       "</style>\n",
       "<table border=\"1\" class=\"dataframe\">\n",
       "  <thead>\n",
       "    <tr style=\"text-align: right;\">\n",
       "      <th></th>\n",
       "      <th>habitat_breeding_le</th>\n",
       "      <th>habitat_breeding_lo</th>\n",
       "      <th>habitat_breeding_tr</th>\n",
       "    </tr>\n",
       "  </thead>\n",
       "  <tbody>\n",
       "    <tr>\n",
       "      <th>0</th>\n",
       "      <td>0</td>\n",
       "      <td>0</td>\n",
       "      <td>1</td>\n",
       "    </tr>\n",
       "    <tr>\n",
       "      <th>1</th>\n",
       "      <td>1</td>\n",
       "      <td>0</td>\n",
       "      <td>0</td>\n",
       "    </tr>\n",
       "    <tr>\n",
       "      <th>2</th>\n",
       "      <td>1</td>\n",
       "      <td>0</td>\n",
       "      <td>0</td>\n",
       "    </tr>\n",
       "  </tbody>\n",
       "</table>\n",
       "</div>"
      ],
      "text/plain": [
       "   habitat_breeding_le  habitat_breeding_lo  habitat_breeding_tr\n",
       "0                    0                    0                    1\n",
       "1                    1                    0                    0\n",
       "2                    1                    0                    0"
      ]
     },
     "execution_count": 586,
     "metadata": {},
     "output_type": "execute_result"
    }
   ],
   "source": [
    "df[['habitat_breeding_le','habitat_breeding_lo','habitat_breeding_tr']].head(3)"
   ]
  },
  {
   "cell_type": "markdown",
   "metadata": {},
   "source": [
    "### Phytophysiognomies categoricals"
   ]
  },
  {
   "cell_type": "code",
   "execution_count": 587,
   "metadata": {},
   "outputs": [],
   "source": [
    "replaces = {\n",
    "} \n",
    "df['phytos'] = df['phytos'].str.lower().str.strip().str.split('\\s*,\\s*')\\\n",
    "    .apply(lambda x: [replaces.get(i,i) for i in x] if isinstance(x,list) else '')\\\n",
    "    .str.join(',')"
   ]
  },
  {
   "cell_type": "code",
   "execution_count": 588,
   "metadata": {},
   "outputs": [
    {
     "data": {
      "text/plain": [
       "0             mg\n",
       "1             mg\n",
       "2       ce,ca,aa\n",
       "3       mg,ce,aa\n",
       "4    mg,ce,cr,aa\n",
       "Name: phytos, dtype: object"
      ]
     },
     "execution_count": 588,
     "metadata": {},
     "output_type": "execute_result"
    }
   ],
   "source": [
    "df['phytos'].head()"
   ]
  },
  {
   "cell_type": "markdown",
   "metadata": {},
   "source": [
    "### Atividade"
   ]
  },
  {
   "cell_type": "code",
   "execution_count": 589,
   "metadata": {},
   "outputs": [],
   "source": [
    "df['atividade_diu'] = df['Atividade (noturno/diurno)'].apply(lambda x: 1 if 'diurno' in str(x) else 0)\n",
    "df['atividade_not'] = df['Atividade (noturno/diurno)'].apply(lambda x: 1 if 'noturno' in str(x) else 0)\n",
    "df.drop('Atividade (noturno/diurno)', axis=1, inplace=True)"
   ]
  },
  {
   "cell_type": "code",
   "execution_count": 590,
   "metadata": {},
   "outputs": [
    {
     "data": {
      "text/plain": [
       "atividade_diu  atividade_not\n",
       "0              1                49\n",
       "1              0                 3\n",
       "               1                 3\n",
       "0              0                 2\n",
       "Name: count, dtype: int64"
      ]
     },
     "execution_count": 590,
     "metadata": {},
     "output_type": "execute_result"
    }
   ],
   "source": [
    "df[['atividade_diu','atividade_not']].value_counts()"
   ]
  },
  {
   "cell_type": "markdown",
   "metadata": {},
   "source": [
    "### Tamanho"
   ]
  },
  {
   "cell_type": "code",
   "execution_count": 591,
   "metadata": {},
   "outputs": [],
   "source": [
    "def calculaTamanhoMedio(strTamanho):\n",
    "    # Recebe valores em string como '2.3-1.2'\n",
    "    if type(strTamanho)!=str:\n",
    "        return None\n",
    "    listaMedidas = [ float(medida.strip().replace(',','.')) for medida in re.findall('([0-9/.,]+)',strTamanho) ]\n",
    "    return sum(listaMedidas)/len(listaMedidas)\n",
    "\n",
    "df['tamanho_femea_med'] = df['tamanho_femea'].apply(calculaTamanhoMedio)\n",
    "df['tamanho_macho_med'] = df['tamanho_macho'].apply(calculaTamanhoMedio)\n",
    "df['tamanho_med'] = (df['tamanho_macho_med']+df['tamanho_femea_med'])/2"
   ]
  },
  {
   "cell_type": "code",
   "execution_count": 592,
   "metadata": {},
   "outputs": [
    {
     "data": {
      "text/html": [
       "<div>\n",
       "<style scoped>\n",
       "    .dataframe tbody tr th:only-of-type {\n",
       "        vertical-align: middle;\n",
       "    }\n",
       "\n",
       "    .dataframe tbody tr th {\n",
       "        vertical-align: top;\n",
       "    }\n",
       "\n",
       "    .dataframe thead th {\n",
       "        text-align: right;\n",
       "    }\n",
       "</style>\n",
       "<table border=\"1\" class=\"dataframe\">\n",
       "  <thead>\n",
       "    <tr style=\"text-align: right;\">\n",
       "      <th></th>\n",
       "      <th>tamanho_femea</th>\n",
       "      <th>tamanho_macho</th>\n",
       "      <th>tamanho_femea_med</th>\n",
       "      <th>tamanho_macho_med</th>\n",
       "      <th>tamanho_med</th>\n",
       "    </tr>\n",
       "  </thead>\n",
       "  <tbody>\n",
       "    <tr>\n",
       "      <th>0</th>\n",
       "      <td>16.8-17</td>\n",
       "      <td>16.8-17</td>\n",
       "      <td>16.9</td>\n",
       "      <td>16.9</td>\n",
       "      <td>16.90</td>\n",
       "    </tr>\n",
       "    <tr>\n",
       "      <th>1</th>\n",
       "      <td>174</td>\n",
       "      <td>121</td>\n",
       "      <td>174.0</td>\n",
       "      <td>121.0</td>\n",
       "      <td>147.50</td>\n",
       "    </tr>\n",
       "    <tr>\n",
       "      <th>2</th>\n",
       "      <td>49-73</td>\n",
       "      <td>40-71</td>\n",
       "      <td>61.0</td>\n",
       "      <td>55.5</td>\n",
       "      <td>58.25</td>\n",
       "    </tr>\n",
       "  </tbody>\n",
       "</table>\n",
       "</div>"
      ],
      "text/plain": [
       "  tamanho_femea tamanho_macho  tamanho_femea_med  tamanho_macho_med  \\\n",
       "0       16.8-17       16.8-17               16.9               16.9   \n",
       "1           174           121              174.0              121.0   \n",
       "2         49-73         40-71               61.0               55.5   \n",
       "\n",
       "   tamanho_med  \n",
       "0        16.90  \n",
       "1       147.50  \n",
       "2        58.25  "
      ]
     },
     "execution_count": 592,
     "metadata": {},
     "output_type": "execute_result"
    }
   ],
   "source": [
    "df[['tamanho_femea','tamanho_macho','tamanho_femea_med','tamanho_macho_med','tamanho_med']].head(3)"
   ]
  },
  {
   "cell_type": "markdown",
   "metadata": {},
   "source": [
    "### Meses de ocorrência"
   ]
  },
  {
   "cell_type": "markdown",
   "metadata": {},
   "source": [
    "1. Extract month ranges from strings"
   ]
  },
  {
   "cell_type": "code",
   "execution_count": 593,
   "metadata": {},
   "outputs": [],
   "source": [
    "def occurrence_months(m_start, m_end):\n",
    "    d=['jan','fev','mar','abr','mai','jun','jul','ago','set','out','nov','dez']\n",
    "    idx_mstart = d.index(m_start)\n",
    "    idx_mend = d.index(m_end)\n",
    "    \n",
    "    if idx_mstart > idx_mend:\n",
    "        return d[idx_mstart:]+d[:idx_mend+1]\n",
    "    else:\n",
    "        return d[idx_mstart:idx_mend+1]\n",
    "    \n",
    "    \n",
    "def months_to_array(mths):\n",
    "    d=['jan','fev','mar','abr','mai','jun','jul','ago','set','out','nov','dez']\n",
    "    return [ 1 if i in mths else 0 for i in d ]"
   ]
  },
  {
   "cell_type": "code",
   "execution_count": 594,
   "metadata": {},
   "outputs": [],
   "source": [
    "def monthsToArray(periods):\n",
    "    if type(periods) is not list:\n",
    "        return [0 for i in range(12)]\n",
    "    \n",
    "    d=['jan','fev','mar','abr','mai','jun','jul','ago','set','out','nov','dez']\n",
    "    def getOcurrenceMonths(month_start, month_end):\n",
    "        idx_mstart = d.index(month_start)\n",
    "        idx_mend = d.index(month_end)\n",
    "        if idx_mstart > idx_mend:\n",
    "            return d[idx_mstart:]+d[:idx_mend+1]\n",
    "        else:\n",
    "            return d[idx_mstart:idx_mend+1]\n",
    "        \n",
    "    months = [ month for period in periods for month in getOcurrenceMonths(*period.strip().split('-')) ]\n",
    "    return [1 if i in months else 0 for i in d]\n",
    "\n",
    "\n",
    "df['month_vec'] = df['meses_ocorrencia'].str.split(',').apply(monthsToArray )"
   ]
  },
  {
   "cell_type": "markdown",
   "metadata": {},
   "source": [
    "### Select fields to use"
   ]
  },
  {
   "cell_type": "code",
   "execution_count": 595,
   "metadata": {},
   "outputs": [],
   "source": [
    "fieldsToUse = [\"id\", \"family\", \"scientificName\",\"vernacularNames\",\n",
    "\"phytos\", \"scientificNameAuthorship\", \"family_id\", \"redlist_dd\",\n",
    "\"redlist_lc\",\"redlist_ne\",\"endemic_cerrado\", \"endemic_chapada\",\n",
    "\"detectability_f\", \"detectability_ff\", \"detectability_r\", \"detectability_rr\",\n",
    "\"tcp_te\",\"tcp_gr\",\"tcp_tr\",\"tcp_lb\",\"tcp_hb\",\n",
    "\"habitat_breeding_le\",\"habitat_breeding_lo\",\"habitat_breeding_tr\",\n",
    "\"atividade_diu\",\"atividade_not\",\n",
    "\"tamanho_med\",\"month_vec\"]\n",
    "\n",
    "df = df[fieldsToUse]"
   ]
  },
  {
   "cell_type": "markdown",
   "metadata": {},
   "source": [
    "### Sort dataframe by Family and id"
   ]
  },
  {
   "cell_type": "code",
   "execution_count": 596,
   "metadata": {},
   "outputs": [],
   "source": [
    "df = df.sort_values(by=['family','id'])"
   ]
  },
  {
   "cell_type": "markdown",
   "metadata": {},
   "source": [
    "### Write to json"
   ]
  },
  {
   "cell_type": "code",
   "execution_count": null,
   "metadata": {},
   "outputs": [],
   "source": [
    "species_data_path = '../../_data/species.json'\n",
    "\n",
    "d = df.to_dict(orient='records')\n",
    "\n",
    "with open(species_data_path, 'w') as f:\n",
    "    json.dump(d, f,indent=1, ensure_ascii=False)\n",
    "    \n",
    "    \n",
    "# TODO: Adicionar arquivo de dados também ao diretório onde fica o html da lista de espécies (p/ filtragem)"
   ]
  },
  {
   "cell_type": "markdown",
   "metadata": {},
   "source": [
    "# Constrói classes de habitat"
   ]
  },
  {
   "cell_type": "code",
   "execution_count": null,
   "metadata": {},
   "outputs": [],
   "source": []
  }
 ],
 "metadata": {
  "kernelspec": {
   "display_name": "base",
   "language": "python",
   "name": "python3"
  },
  "language_info": {
   "codemirror_mode": {
    "name": "ipython",
    "version": 3
   },
   "file_extension": ".py",
   "mimetype": "text/x-python",
   "name": "python",
   "nbconvert_exporter": "python",
   "pygments_lexer": "ipython3",
   "version": "3.11.7"
  }
 },
 "nbformat": 4,
 "nbformat_minor": 2
}
