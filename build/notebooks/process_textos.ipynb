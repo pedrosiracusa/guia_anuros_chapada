{
 "cells": [
  {
   "cell_type": "code",
   "execution_count": 5,
   "metadata": {},
   "outputs": [],
   "source": [
    "import re\n",
    "import os, glob, shutil\n",
    "from bs4 import BeautifulSoup\n",
    "from slugify import slugify\n",
    "from collections import namedtuple\n",
    "import markdown\n",
    "from lxml import etree"
   ]
  },
  {
   "cell_type": "code",
   "execution_count": 6,
   "metadata": {},
   "outputs": [],
   "source": [
    "text_dir = './tmp/textos-perfil/especies'"
   ]
  },
  {
   "cell_type": "markdown",
   "metadata": {},
   "source": [
    "# 1. Convertendo artigos de espécies para HTML"
   ]
  },
  {
   "cell_type": "code",
   "execution_count": 7,
   "metadata": {},
   "outputs": [],
   "source": [
    "def markdownToHtml(fpath):\n",
    "    with open(fpath, 'r', encoding='utf-8-sig') as f:\n",
    "        txt = f.read()\n",
    "        htmlDoc = markdown.markdown(txt,extensions=['extra'])\n",
    "        \n",
    "    # Este código pega o html resultante do parse markdown e coloca os elementos em divs correspondentes\n",
    "    soup = BeautifulSoup(htmlDoc)\n",
    "\n",
    "    elements = [i for i in soup.body.children ]\n",
    "    headersIdxs = [i for i,e in enumerate(soup.body.children) if e.name=='h1' ]\n",
    "\n",
    "    elementGroups = [ elements[iStart:iEnd] for iStart,iEnd in zip([0]+headersIdxs, headersIdxs+[None]) ]\n",
    "    elementGroups = [ [ i for i in g if i!='\\n' ] for g in elementGroups ]\n",
    "\n",
    "    for i,g in enumerate(elementGroups):\n",
    "        \n",
    "        div = soup.new_tag(\"div\")\n",
    "        div.extend(g)\n",
    "        div['class'] = slugify( g[0].text if g[0].name in ['h1','h2','h3','h4','h5','h6'] else 'descricao-geral' )\n",
    "        soup.html.insert(i,div)\n",
    "\n",
    "    soup.body.decompose()\n",
    "\n",
    "\n",
    "    return BeautifulSoup( \"\\n\".join(str(i) for i in list(soup.html.children) ),'html.parser' ).prettify()"
   ]
  },
  {
   "cell_type": "code",
   "execution_count": 8,
   "metadata": {},
   "outputs": [
    {
     "name": "stdout",
     "output_type": "stream",
     "text": [
      "Processando arquivo: ./tmp/textos-perfil/especies/dendropsophus-minutus.md\n",
      "Processando arquivo: ./tmp/textos-perfil/especies/dendropsophus-rubicundulus.md\n",
      "Processando arquivo: ./tmp/textos-perfil/especies/ololygon-skaios.md\n"
     ]
    }
   ],
   "source": [
    "try: shutil.rmtree(f\"{text_dir}/processado\")\n",
    "except(FileNotFoundError): pass\n",
    "os.makedirs(f'{text_dir}/processado')\n",
    "    \n",
    "# Grava tudo no subdiretório de processados\n",
    "for filePath in glob.glob(f\"{text_dir}/*.md\"):\n",
    "    \n",
    "    print(f\"Processando arquivo: {filePath}\")\n",
    "    fileDir = os.path.dirname(filePath)\n",
    "    fileNameNoExtension = os.path.splitext( os.path.basename(filePath) )[0]\n",
    "    res = markdownToHtml(filePath)\n",
    "    \n",
    "    with open(f\"{fileDir}/processado/{fileNameNoExtension}.md\", 'w') as f:\n",
    "        f.write(res)"
   ]
  }
 ],
 "metadata": {
  "kernelspec": {
   "display_name": "base",
   "language": "python",
   "name": "python3"
  },
  "language_info": {
   "codemirror_mode": {
    "name": "ipython",
    "version": 3
   },
   "file_extension": ".py",
   "mimetype": "text/x-python",
   "name": "python",
   "nbconvert_exporter": "python",
   "pygments_lexer": "ipython3",
   "version": "3.11.7"
  }
 },
 "nbformat": 4,
 "nbformat_minor": 2
}
