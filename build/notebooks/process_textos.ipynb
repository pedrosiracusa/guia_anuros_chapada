{
 "cells": [
  {
   "cell_type": "code",
   "execution_count": 77,
   "metadata": {},
   "outputs": [],
   "source": [
    "import re\n",
    "import os\n",
    "from slugify import slugify\n",
    "from collections import namedtuple\n",
    "import markdown\n",
    "from lxml import etree"
   ]
  },
  {
   "cell_type": "code",
   "execution_count": 3,
   "metadata": {},
   "outputs": [],
   "source": [
    "text_dir = './tmp/textos-perfil/especies'"
   ]
  },
  {
   "cell_type": "markdown",
   "metadata": {},
   "source": [
    "# 1. Convertendo para HTML"
   ]
  },
  {
   "cell_type": "code",
   "execution_count": 58,
   "metadata": {},
   "outputs": [
    {
     "name": "stdout",
     "output_type": "stream",
     "text": [
      "<p>Aqui vai a descrição geral da espécie. Deixar o texto simples para o leitor leigo. O texto inicial para aparecer no perfil. Usar a tag <glossario>algum termo técnico</glossario> para transformar em tooltip (texto que aparece ao passar o mouse sobre). As seções que devem ser destacadas são indicadas por quatro símbolos (“#”) juntos, separada do título por um espaço, como mostrado abaixo.\n",
      "O formato destes textos segue o padrão de estrutura do markdown, que pode ser conferido aqui <a href=\"https://www.markdownguide.org/cheat-sheet/\">sobre o markdown</a>. Perceba que o link foi inserido usando este formato <a href=\"http://link-em-si.com.br\">nome do link</a>.</p>\n",
      "<h1>Onde encontrar</h1>\n",
      "<p>Aqui entram informações para o usuário sobre como encontrar o animal. Onde procurar, que hora do dia, onde ele costuma cantar, etc.</p>\n",
      "<h1>Diagnose</h1>\n",
      "<p>Aqui entram informações sobre como o usuário pode identificar o animal. Quais as características que diferenciam a espécie? Como diferenciar esta espécie de outras parecidas? </p>\n",
      "<h1>Curiosidades</h1>\n",
      "<ol>\n",
      "<li>\n",
      "<h2>Título da curiosidade 1</h2>\n",
      "<p>Aqui contamos aspectos interessantes (do ponto de vista de um usuário leigo) sobre a espécie. Cada curiosidade entra em uma seção separada (mas com 5 #).</p>\n",
      "</li>\n",
      "<li>\n",
      "<h2>Título da curiosidade 2</h2>\n",
      "<p>Por exemplo, esta é outra curiosidade</p>\n",
      "</li>\n",
      "<li>\n",
      "<p>Mais uma curiosidade, mas dessa vez sem título</p>\n",
      "</li>\n",
      "</ol>\n",
      "<h4>Referências</h4>\n",
      "<p>Aqui separamos as referências por numeração</p>\n",
      "<ol>\n",
      "<li>Primeira referência</li>\n",
      "<li>Segunda referência</li>\n",
      "</ol>\n"
     ]
    }
   ],
   "source": [
    "with open(f\"{text_dir}/teste.md\", 'r') as f:\n",
    "    txt = f.read()\n",
    "    htmlDoc = markdown.markdown(txt,extensions=['extra'])\n",
    "    \n",
    "print(htmlDoc)"
   ]
  },
  {
   "cell_type": "code",
   "execution_count": 392,
   "metadata": {},
   "outputs": [
    {
     "data": {
      "text/plain": [
       "'<div class=\"descricao-geral\"><p>Aqui vai a descrição geral da espécie. Deixar o texto simples para o leitor leigo. O texto inicial para aparecer no perfil. Usar a tag <glossario>algum termo técnico</glossario> para transformar em tooltip (texto que aparece ao passar o mouse sobre). As seções que devem ser destacadas são indicadas por quatro símbolos (“#”) juntos, separada do título por um espaço, como mostrado abaixo.\\nO formato destes textos segue o padrão de estrutura do markdown, que pode ser conferido aqui <a href=\"https://www.markdownguide.org/cheat-sheet/\">sobre o markdown</a>. Perceba que o link foi inserido usando este formato <a href=\"http://link-em-si.com.br\">nome do link</a>.</p></div><div class=\"onde-encontrar\"><h1>Onde encontrar</h1><p>Aqui entram informações para o usuário sobre como encontrar o animal. Onde procurar, que hora do dia, onde ele costuma cantar, etc.</p></div><div class=\"diagnose\"><h1>Diagnose</h1><p>Aqui entram informações sobre como o usuário pode identificar o animal. Quais as características que diferenciam a espécie? Como diferenciar esta espécie de outras parecidas? </p></div><div class=\"curiosidades\"><h1>Curiosidades</h1><ol>\\n<li>\\n<h2>Título da curiosidade 1</h2>\\n<p>Aqui contamos aspectos interessantes (do ponto de vista de um usuário leigo) sobre a espécie. Cada curiosidade entra em uma seção separada (mas com 5 #).</p>\\n</li>\\n<li>\\n<h2>Título da curiosidade 2</h2>\\n<p>Por exemplo, esta é outra curiosidade</p>\\n</li>\\n<li>\\n<p>Mais uma curiosidade, mas dessa vez sem título</p>\\n</li>\\n</ol><h4>Referências</h4><p>Aqui separamos as referências por numeração</p><ol>\\n<li>Primeira referência</li>\\n<li>Segunda referência</li>\\n</ol></div>'"
      ]
     },
     "execution_count": 392,
     "metadata": {},
     "output_type": "execute_result"
    }
   ],
   "source": [
    "# Este código pega o html resultante do parse markdown e coloca os elementos em divs correspondentes\n",
    "soup = BeautifulSoup(htmlDoc)\n",
    "\n",
    "elements = [i for i in soup.body.children ]\n",
    "headersIdxs = [i for i,e in enumerate(soup.body.children) if e.name=='h1' ]\n",
    "\n",
    "elementGroups = [ elements[iStart:iEnd] for iStart,iEnd in zip([0]+headersIdxs, headersIdxs+[None]) ]\n",
    "elementGroups = [ [ i for i in g if i!='\\n' ] for g in elementGroups ]\n",
    "\n",
    "for i,g in enumerate(elementGroups):\n",
    "    \n",
    "    div = soup.new_tag(\"div\")\n",
    "    div.extend(g)\n",
    "    div['class'] = slugify( g[0].text if g[0].name=='h1' else 'descricao-geral' )\n",
    "    soup.html.insert(i,div)\n",
    "\n",
    "\n",
    "soup.body.decompose()\n",
    "resultString = \"\".join(str(i) for i in list(soup.html.children) )\n",
    "resultString"
   ]
  },
  {
   "cell_type": "code",
   "execution_count": 388,
   "metadata": {},
   "outputs": [],
   "source": [
    "with open('f','w') as f:\n",
    "    f.write( \"\".join(str(i) for i in list(soup.html.children) ) )"
   ]
  },
  {
   "cell_type": "code",
   "execution_count": null,
   "metadata": {},
   "outputs": [],
   "source": []
  },
  {
   "cell_type": "markdown",
   "metadata": {},
   "source": [
    "# Species profile text"
   ]
  },
  {
   "cell_type": "code",
   "execution_count": 4,
   "metadata": {},
   "outputs": [],
   "source": [
    "def getSpeciesProfileStructure(txt):\n",
    "    main_desc = re.findall('^([^#]*)',txt,flags=re.DOTALL)[0].strip()\n",
    "    named_sections = [ (n.strip(),d.strip()) for n,d in re.findall('#+([\\w\\s]{1,30})\\n([^#]+)',txt,flags=re.DOTALL)]\n",
    "    structured_text = namedtuple('ProfileText',['main_desc','named_sections'])\n",
    "    return structured_text(main_desc,named_sections)\n",
    "    return namedtuple('ProfileText', ['main_desc','named_sections'],main_desc,named_sections)\n",
    "\n",
    "def profileText_to_markdown(profile_txt_str):\n",
    "    \n",
    "    resText = ''\n",
    "    resText += profile_txt_str.main_desc\n",
    "    \n",
    "    for name,content in profile_txt_str.named_sections:\n",
    "        if name.lower()=='curiosidades':\n",
    "            resText += f'''\n",
    "<div class=\"col-lg-12\">\n",
    "  <div class=\"jumbotron\">\n",
    "    <h1 class=\"display-4\">Você sabia?</h1>\n",
    "    <hr class=\"my-4\">\n",
    "    <p>{markdown.markdown(content)}</p>\n",
    "  </div>\n",
    "</div>\n",
    "'''\n",
    "        \n",
    "        else:\n",
    "            resText += f'\\n#### {name}\\n{content}'\n",
    "            \n",
    "    return resText"
   ]
  },
  {
   "cell_type": "code",
   "execution_count": 25,
   "metadata": {},
   "outputs": [
    {
     "name": "stdout",
     "output_type": "stream",
     "text": [
      "<p>﻿Uma das características que mais chama a atenção dessa espécie é a coloração dos seus olhos. O terço superior do olho é dourado e o restante tem a coloração cobre vermelho. A espécie recebe esse nome em homenagem aos cientistas brasileiros Adolfo e Bertha Lutz, que foram pioneiros na descoberta e estudo do gênero Aplastodiscus. Com hábitos florestais e onde há buritizais (<em>Mauritia flexuosa</em>), é encontrada, durante a noite, em matas ribeirinhas cantando empoleirada em em folhas e galhos até 5 metros de altura, o que dificulta estudos com a espécie. Somente foram encontrados indivíduos em locais com mais 1000 metros acima do nível do mar. Machos são encontrados vocalizando entre dezembro e março e uma fêmea já foi encontrada portando grandes <glossario>ovócitos</glossario> em meados de dezembro. O girino da espécie ainda não é conhecido, porém possivelmente são depositados em solo de lama úmida e macia, coberta pela mata densa. <em>A. lutzorum</em> apresenta distribuição dentro do bioma Cerrado, em regiões próximas ao Distrito Federal. Além disso, apresenta uma distribuição separada das demais espécies do gênero Aplastodiscus. O <em>status</em> de conservação desta espécie é desconhecido, porém no artigo de descrição, é sugerido que seja classificada como LC (least Concern) - Menor preocupação - porque ocorre em locais protegidos, como o Parque Nacional da Chapada dos Veadeiros. </p>\n",
      "<h4>Diagnose</h4>\n",
      "<p><em>Aplastodiscus lutzorum</em> pertence ao grupo <em>A. perviridis</em> por possuir íris bicolores, o saco vocal é verde azulado, o corpo varia de colorações verdes com <glossario>melanóforos</glossario> amarelos dispersos ao longo do corpo e a barriga tem tom amarelo pálido. Além disso, não tem membrana entre os dedos I e II e é diagnosticada pelo seu pequeno comprimento rostro-cloacal (30–36 mm) e pelo canto de anúncio ser 2,5 vezes mais longo (0,12 a 0,15 s) e por apresentar 39 cantos/minuto. Quando olhada de perfil, apresenta focinho arredondado. A pele do dorso é lisa e apresenta pontos castanhos escuros, enquanto que a pele na garganta, barriga, supefície ventral da coxa e do braço é granular. </p>\n",
      "<h4>Curiosidade</h4>\n",
      "<p>O nome da espécie é em homenagem aos cientistas brasileiros Adolfo e Bertha Lutz, pioneiros em descobrir e estudar o gênero Aplastodiscus. Adolfo Lutz foi um médico e cientista brasileiro e foi o pioneiro em pesquisas com doenças infecciosas. Foi o primeiro cientista latino-americano a estudar os mecanismos de transmissão da febre amarela pelo <em>Aedes aegypti</em> e se dedicou a estudar a cólera, peste bubônica, febre tifóide, malária, esquistossomose e leishmaniose, além de descrever espécies de anfíbios e insetos. Já Bertha Lutz, filha de Adolfo, foi uma ativista pelos direitos da mulher, bióloga e política brasileira. Trabalhou no Museu Nacional do Rio de Janeiro, com especialização nos anfíbios. Fundou e organizou movimentos que lutavam pelo feminismo e educação, como salários iguais para homens e mulheres, direito à licença-maternidade e contra o trabalho infantil. Como cientista, combateu doenças, contribuiu para a proteção da natureza e conservação da fauna e flora.  </p>\n",
      "<h4>Referências</h4>\n",
      "<p>https://pt.wikipedia.org/wiki/Bertha_Lutz\n",
      "https://pt.wikipedia.org/wiki/Adolfo_Lutz\n",
      "Berneck BVM, Giaretta AA, Brandão RA, Cruz CAG &amp; Haddad CFB. (2017). The first species of <em>Aplastodiscus</em> endemic to the Brazilian Cerrado (Anura, Hylidae). ZooKeys, 642:115-130. doi: 10.3897/zookeys.642.10401.</p>\n"
     ]
    }
   ],
   "source": [
    "with open(f\"{text_dir}/aplastodiscus-lutzorum.md\", 'r') as f:\n",
    "    txt = f.read()\n",
    "    html = markdown.markdown(txt)\n",
    "    \n",
    "print(html)"
   ]
  },
  {
   "cell_type": "code",
   "execution_count": 153,
   "metadata": {},
   "outputs": [],
   "source": [
    "import glob"
   ]
  },
  {
   "cell_type": "code",
   "execution_count": 262,
   "metadata": {},
   "outputs": [],
   "source": [
    "for spfilePath in glob.glob('./tmp/especies/*'):\n",
    "    species_slug = re.findall('([\\w-]*).md$',spfilePath)[0]\n",
    "    \n",
    "    with open(spfilePath) as f:\n",
    "        txt = f.read()\n",
    "        profile_data = getSpeciesProfileStructure(txt)\n",
    "\n",
    "    with open(f'../especies/{species_slug}.md','w') as f:\n",
    "        f.write(profileText_to_markdown(profile_data))\n",
    "    \n"
   ]
  },
  {
   "cell_type": "code",
   "execution_count": 242,
   "metadata": {},
   "outputs": [],
   "source": [
    "species_slug = 'bokermannohyla-pseudopseudis'\n",
    "text_file = f'../especies/{species_slug}.md'\n",
    "\n",
    "with open(text_file) as f:\n",
    "    txt = f.read()\n",
    "    profile_data = getSpeciesProfileStructure(txt)\n",
    "\n",
    "with open(f'../especies/{species_slug}-1.md','w') as f:\n",
    "    f.write(profileText_to_markdown(profile_data))"
   ]
  }
 ],
 "metadata": {
  "kernelspec": {
   "display_name": "base",
   "language": "python",
   "name": "python3"
  },
  "language_info": {
   "codemirror_mode": {
    "name": "ipython",
    "version": 3
   },
   "file_extension": ".py",
   "mimetype": "text/x-python",
   "name": "python",
   "nbconvert_exporter": "python",
   "pygments_lexer": "ipython3",
   "version": "3.11.7"
  }
 },
 "nbformat": 4,
 "nbformat_minor": 2
}
